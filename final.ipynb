{
 "cells": [
  {
   "cell_type": "code",
   "execution_count": 1,
   "metadata": {},
   "outputs": [],
   "source": [
    "import os\n",
    "import pandas as pd"
   ]
  },
  {
   "cell_type": "code",
   "execution_count": 2,
   "metadata": {},
   "outputs": [],
   "source": [
    "root = os.getcwd()\n",
    "data = os.path.join(root,'data')"
   ]
  },
  {
   "cell_type": "code",
   "execution_count": 3,
   "metadata": {},
   "outputs": [
    {
     "name": "stdout",
     "output_type": "stream",
     "text": [
      "{'accident': ['accident_Cropped/accident_Cropped/accident_Crop_012_01.avi', 'accident_Cropped/accident_Cropped/accident_Crop_011_01.avi', 'accident_Cropped/accident_Cropped/accident_Crop_026_02.avi', 'accident_Cropped/accident_Cropped/accident_Crop_003_02.avi', 'accident_Cropped/accident_Cropped/accident_Crop_002_01.avi', 'accident_Cropped/accident_Cropped/accident_Crop_025_01.avi', 'accident_Cropped/accident_Cropped/accident_Crop_008_01.avi', 'accident_Cropped/accident_Cropped/accident_Crop_023_02.avi', 'accident_Cropped/accident_Cropped/accident_Crop_019_02.avi', 'accident_Cropped/accident_Cropped/accident_Crop_009_02.avi', 'accident_Cropped/accident_Cropped/accident_Crop_014_01.avi', 'accident_Cropped/accident_Cropped/accident_Crop_012_02.avi', 'accident_Cropped/accident_Cropped/accident_Crop_004_02.avi', 'accident_Cropped/accident_Cropped/accident_Crop_017_02.avi', 'accident_Cropped/accident_Cropped/accident_Crop_010_01.avi', 'accident_Cropped/accident_Cropped/accident_Crop_006_02.avi', 'accident_Cropped/accident_Cropped/accident_Crop_004_01.avi', 'accident_Cropped/accident_Cropped/accident_Crop_013_01.avi', 'accident_Cropped/accident_Cropped/accident_Crop_020_02.avi', 'accident_Cropped/accident_Cropped/accident_Crop_009_01.avi', 'accident_Cropped/accident_Cropped/accident_Crop_021_02.avi', 'accident_Cropped/accident_Cropped/accident_Crop_019_01.avi', 'accident_Cropped/accident_Cropped/accident_Crop_025_02.avi', 'accident_Cropped/accident_Cropped/accident_Crop_024_01.avi', 'accident_Cropped/accident_Cropped/accident_Crop_018_02.avi', 'accident_Cropped/accident_Cropped/accident_Crop_014_02.avi', 'accident_Cropped/accident_Cropped/accident_Crop_018_01.avi', 'accident_Cropped/accident_Cropped/accident_Crop_026_01.avi', 'accident_Cropped/accident_Cropped/accident_Crop_006_01.avi', 'accident_Cropped/accident_Cropped/accident_Crop_002_02.avi', 'accident_Cropped/accident_Cropped/accident_Crop_020_01.avi', 'accident_Cropped/accident_Cropped/accident_Crop_005_02.avi', 'accident_Cropped/accident_Cropped/accident_Crop_007_02.avi', 'accident_Cropped/accident_Cropped/accident_Crop_023_01.avi', 'accident_Cropped/accident_Cropped/accident_Crop_022_02.avi', 'accident_Cropped/accident_Cropped/accident_Crop_010_02.avi', 'accident_Cropped/accident_Cropped/accident_Crop_013_02.avi', 'accident_Cropped/accident_Cropped/accident_Crop_007_01.avi', 'accident_Cropped/accident_Cropped/accident_Crop_005_01.avi', 'accident_Cropped/accident_Cropped/accident_Crop_016_01.avi', 'accident_Cropped/accident_Cropped/accident_Crop_008_02.avi', 'accident_Cropped/accident_Cropped/accident_Crop_017_01.avi', 'accident_Cropped/accident_Cropped/accident_Crop_003_01.avi', 'accident_Cropped/accident_Cropped/accident_Crop_011_02.avi', 'accident_Cropped/accident_Cropped/accident_Crop_016_02.avi', 'accident_Cropped/accident_Cropped/accident_Crop_015_01.avi', 'accident_Cropped/accident_Cropped/accident_Crop_022_01.avi', 'accident_Cropped/accident_Cropped/accident_Crop_001_01.avi', 'accident_Cropped/accident_Cropped/accident_Crop_024_02.avi', 'accident_Cropped/accident_Cropped/accident_Crop_001_02.avi', 'accident_Cropped/accident_Cropped/accident_Crop_021_01.avi', 'accident_Cropped/accident_Cropped/accident_Crop_015_02.avi'], 'help': ['help_Cropped/help_Cropped/help_Crop_020_02.avi', 'help_Cropped/help_Cropped/help_Crop_012_02.avi', 'help_Cropped/help_Cropped/help_Crop_022_02.avi', 'help_Cropped/help_Cropped/help_Crop_014_02.avi', 'help_Cropped/help_Cropped/help_Crop_008_01.avi', 'help_Cropped/help_Cropped/help_Crop_021_01.avi', 'help_Cropped/help_Cropped/help_Crop_007_02.avi', 'help_Cropped/help_Cropped/help_Crop_026_02.avi', 'help_Cropped/help_Cropped/help_Crop_001_02.avi', 'help_Cropped/help_Cropped/help_Crop_010_02.avi', 'help_Cropped/help_Cropped/help_Crop_025_02.avi', 'help_Cropped/help_Cropped/help_Crop_015_02.avi', 'help_Cropped/help_Cropped/help_Crop_012_01.avi', 'help_Cropped/help_Cropped/help_Crop_018_02.avi', 'help_Cropped/help_Cropped/help_Crop_023_02.avi', 'help_Cropped/help_Cropped/help_Crop_005_02.avi', 'help_Cropped/help_Cropped/help_Crop_004_01.avi', 'help_Cropped/help_Cropped/help_Crop_019_01.avi', 'help_Cropped/help_Cropped/help_Crop_013_02.avi', 'help_Cropped/help_Cropped/help_Crop_016_01.avi', 'help_Cropped/help_Cropped/help_Crop_007_01.avi', 'help_Cropped/help_Cropped/help_Crop_006_02.avi', 'help_Cropped/help_Cropped/help_Crop_024_01.avi', 'help_Cropped/help_Cropped/help_Crop_002_01.avi', 'help_Cropped/help_Cropped/help_Crop_013_01.avi', 'help_Cropped/help_Cropped/help_Crop_001_01.avi', 'help_Cropped/help_Cropped/help_Crop_010_01.avi', 'help_Cropped/help_Cropped/help_Crop_017_02.avi', 'help_Cropped/help_Cropped/help_Crop_003_01.avi', 'help_Cropped/help_Cropped/help_Crop_025_01.avi', 'help_Cropped/help_Cropped/help_Crop_003_02.avi', 'help_Cropped/help_Cropped/help_Crop_014_01.avi', 'help_Cropped/help_Cropped/help_Crop_019_02.avi', 'help_Cropped/help_Cropped/help_Crop_011_02.avi', 'help_Cropped/help_Cropped/help_Crop_009_01.avi', 'help_Cropped/help_Cropped/help_Crop_020_01.avi', 'help_Cropped/help_Cropped/help_Crop_008_02.avi', 'help_Cropped/help_Cropped/help_Crop_017_01.avi', 'help_Cropped/help_Cropped/help_Crop_015_01.avi', 'help_Cropped/help_Cropped/help_Crop_005_01.avi', 'help_Cropped/help_Cropped/help_Crop_009_02.avi', 'help_Cropped/help_Cropped/help_Crop_022_01.avi', 'help_Cropped/help_Cropped/help_Crop_023_01.avi', 'help_Cropped/help_Cropped/help_Crop_002_02.avi', 'help_Cropped/help_Cropped/help_Crop_016_02.avi', 'help_Cropped/help_Cropped/help_Crop_021_02.avi', 'help_Cropped/help_Cropped/help_Crop_004_02.avi', 'help_Cropped/help_Cropped/help_Crop_018_01.avi', 'help_Cropped/help_Cropped/help_Crop_011_01.avi', 'help_Cropped/help_Cropped/help_Crop_024_02.avi', 'help_Cropped/help_Cropped/help_Crop_026_01.avi', 'help_Cropped/help_Cropped/help_Crop_006_01.avi'], 'hot': ['hot_Cropped/hot_Cropped/hot_Crop_014_01.avi', 'hot_Cropped/hot_Cropped/hot_Crop_012_02.avi', 'hot_Cropped/hot_Cropped/hot_Crop_017_02.avi', 'hot_Cropped/hot_Cropped/hot_Crop_004_01.avi', 'hot_Cropped/hot_Cropped/hot_Crop_022_02.avi', 'hot_Cropped/hot_Cropped/hot_Crop_011_02.avi', 'hot_Cropped/hot_Cropped/hot_Crop_023_02.avi', 'hot_Cropped/hot_Cropped/hot_Crop_013_02.avi', 'hot_Cropped/hot_Cropped/hot_Crop_026_02.avi', 'hot_Cropped/hot_Cropped/hot_Crop_024_02.avi', 'hot_Cropped/hot_Cropped/hot_Crop_006_02.avi', 'hot_Cropped/hot_Cropped/hot_Crop_014_02.avi', 'hot_Cropped/hot_Cropped/hot_Crop_006_01.avi', 'hot_Cropped/hot_Cropped/hot_Crop_017_01.avi', 'hot_Cropped/hot_Cropped/hot_Crop_002_02.avi', 'hot_Cropped/hot_Cropped/hot_Crop_019_01.avi', 'hot_Cropped/hot_Cropped/hot_Crop_015_01.avi', 'hot_Cropped/hot_Cropped/hot_Crop_015_02.avi', 'hot_Cropped/hot_Cropped/hot_Crop_008_02.avi', 'hot_Cropped/hot_Cropped/hot_Crop_005_01.avi', 'hot_Cropped/hot_Cropped/hot_Crop_010_02.avi', 'hot_Cropped/hot_Cropped/hot_Crop_011_01.avi', 'hot_Cropped/hot_Cropped/hot_Crop_003_02.avi', 'hot_Cropped/hot_Cropped/hot_Crop_023_01.avi', 'hot_Cropped/hot_Cropped/hot_Crop_004_02.avi', 'hot_Cropped/hot_Cropped/hot_Crop_010_01.avi', 'hot_Cropped/hot_Cropped/hot_Crop_009_02.avi', 'hot_Cropped/hot_Cropped/hot_Crop_018_02.avi', 'hot_Cropped/hot_Cropped/hot_Crop_025_02.avi', 'hot_Cropped/hot_Cropped/hot_Crop_021_01.avi', 'hot_Cropped/hot_Cropped/hot_Crop_009_01.avi', 'hot_Cropped/hot_Cropped/hot_Crop_001_02.avi', 'hot_Cropped/hot_Cropped/hot_Crop_016_02.avi', 'hot_Cropped/hot_Cropped/hot_Crop_024_01.avi', 'hot_Cropped/hot_Cropped/hot_Crop_025_01.avi', 'hot_Cropped/hot_Cropped/hot_Crop_007_02.avi', 'hot_Cropped/hot_Cropped/hot_Crop_020_02.avi', 'hot_Cropped/hot_Cropped/hot_Crop_008_01.avi', 'hot_Cropped/hot_Cropped/hot_Crop_005_02.avi', 'hot_Cropped/hot_Cropped/hot_Crop_007_01.avi', 'hot_Cropped/hot_Cropped/hot_Crop_022_01.avi', 'hot_Cropped/hot_Cropped/hot_Crop_013_01.avi', 'hot_Cropped/hot_Cropped/hot_Crop_002_01.avi', 'hot_Cropped/hot_Cropped/hot_Crop_026_01.avi', 'hot_Cropped/hot_Cropped/hot_Crop_018_01.avi', 'hot_Cropped/hot_Cropped/hot_Crop_021_02.avi', 'hot_Cropped/hot_Cropped/hot_Crop_019_02.avi', 'hot_Cropped/hot_Cropped/hot_Crop_020_01.avi', 'hot_Cropped/hot_Cropped/hot_Crop_001_01.avi', 'hot_Cropped/hot_Cropped/hot_Crop_016_01.avi', 'hot_Cropped/hot_Cropped/hot_Crop_012_01.avi', 'hot_Cropped/hot_Cropped/hot_Crop_003_01.avi'], 'thief': ['thief_Cropped/thief_Cropped/thief_Crop_015_01.avi', 'thief_Cropped/thief_Cropped/thief_Crop_009_01.avi', 'thief_Cropped/thief_Cropped/thief_Crop_026_02.avi', 'thief_Cropped/thief_Cropped/thief_Crop_015_02.avi', 'thief_Cropped/thief_Cropped/thief_Crop_024_02.avi', 'thief_Cropped/thief_Cropped/thief_Crop_006_01.avi', 'thief_Cropped/thief_Cropped/thief_Crop_023_02.avi', 'thief_Cropped/thief_Cropped/thief_Crop_002_02.avi', 'thief_Cropped/thief_Cropped/thief_Crop_022_01.avi', 'thief_Cropped/thief_Cropped/thief_Crop_025_01.avi', 'thief_Cropped/thief_Cropped/thief_Crop_003_02.avi', 'thief_Cropped/thief_Cropped/thief_Crop_016_02.avi', 'thief_Cropped/thief_Cropped/thief_Crop_021_01.avi', 'thief_Cropped/thief_Cropped/thief_Crop_018_02.avi', 'thief_Cropped/thief_Cropped/thief_Crop_004_02.avi', 'thief_Cropped/thief_Cropped/thief_Crop_008_01.avi', 'thief_Cropped/thief_Cropped/thief_Crop_003_01.avi', 'thief_Cropped/thief_Cropped/thief_Crop_014_02.avi', 'thief_Cropped/thief_Cropped/thief_Crop_010_02.avi', 'thief_Cropped/thief_Cropped/thief_Crop_007_01.avi', 'thief_Cropped/thief_Cropped/thief_Crop_019_01.avi', 'thief_Cropped/thief_Cropped/thief_Crop_019_02.avi', 'thief_Cropped/thief_Cropped/thief_Crop_011_01.avi', 'thief_Cropped/thief_Cropped/thief_Crop_008_02.avi', 'thief_Cropped/thief_Cropped/thief_Crop_005_02.avi', 'thief_Cropped/thief_Cropped/thief_Crop_026_01.avi', 'thief_Cropped/thief_Cropped/thief_Crop_007_02.avi', 'thief_Cropped/thief_Cropped/thief_Crop_001_02.avi', 'thief_Cropped/thief_Cropped/thief_Crop_012_01.avi', 'thief_Cropped/thief_Cropped/thief_Crop_016_01.avi', 'thief_Cropped/thief_Cropped/thief_Crop_017_01.avi', 'thief_Cropped/thief_Cropped/thief_Crop_013_02.avi', 'thief_Cropped/thief_Cropped/thief_Crop_001_01.avi', 'thief_Cropped/thief_Cropped/thief_Crop_017_02.avi', 'thief_Cropped/thief_Cropped/thief_Crop_005_01.avi', 'thief_Cropped/thief_Cropped/thief_Crop_022_02.avi', 'thief_Cropped/thief_Cropped/thief_Crop_023_01.avi', 'thief_Cropped/thief_Cropped/thief_Crop_012_02.avi', 'thief_Cropped/thief_Cropped/thief_Crop_025_02.avi', 'thief_Cropped/thief_Cropped/thief_Crop_021_02.avi', 'thief_Cropped/thief_Cropped/thief_Crop_004_01.avi', 'thief_Cropped/thief_Cropped/thief_Crop_002_01.avi', 'thief_Cropped/thief_Cropped/thief_Crop_011_02.avi', 'thief_Cropped/thief_Cropped/thief_Crop_009_02.avi', 'thief_Cropped/thief_Cropped/thief_Crop_018_01.avi', 'thief_Cropped/thief_Cropped/thief_Crop_013_01.avi', 'thief_Cropped/thief_Cropped/thief_Crop_024_01.avi', 'thief_Cropped/thief_Cropped/thief_Crop_014_01.avi', 'thief_Cropped/thief_Cropped/thief_Crop_010_01.avi', 'thief_Cropped/thief_Cropped/thief_Crop_006_02.avi'], 'call': ['call_Cropped/call_Cropped/call_Crop_009_02.avi', 'call_Cropped/call_Cropped/call_Crop_012_02.avi', 'call_Cropped/call_Cropped/call_Crop_020_02.avi', 'call_Cropped/call_Cropped/call_Crop_003_02.avi', 'call_Cropped/call_Cropped/call_Crop_025_02.avi', 'call_Cropped/call_Cropped/call_Crop_010_02.avi', 'call_Cropped/call_Cropped/call_Crop_018_01.avi', 'call_Cropped/call_Cropped/call_Crop_021_02.avi', 'call_Cropped/call_Cropped/call_Crop_005_01.avi', 'call_Cropped/call_Cropped/call_Crop_021_01.avi', 'call_Cropped/call_Cropped/call_Crop_020_01.avi', 'call_Cropped/call_Cropped/call_Crop_008_02.avi', 'call_Cropped/call_Cropped/call_Crop_015_01.avi', 'call_Cropped/call_Cropped/call_Crop_010_01.avi', 'call_Cropped/call_Cropped/call_Crop_016_02.avi', 'call_Cropped/call_Cropped/call_Crop_004_02.avi', 'call_Cropped/call_Cropped/call_Crop_019_02.avi', 'call_Cropped/call_Cropped/call_Crop_011_01.avi', 'call_Cropped/call_Cropped/call_Crop_024_01.avi', 'call_Cropped/call_Cropped/call_Crop_016_01.avi', 'call_Cropped/call_Cropped/call_Crop_001_02.avi', 'call_Cropped/call_Cropped/call_Crop_009_01.avi', 'call_Cropped/call_Cropped/call_Crop_004_01.avi', 'call_Cropped/call_Cropped/call_Crop_024_02.avi', 'call_Cropped/call_Cropped/call_Crop_017_01.avi', 'call_Cropped/call_Cropped/call_Crop_002_02.avi', 'call_Cropped/call_Cropped/call_Crop_001_01.avi', 'call_Cropped/call_Cropped/call_Crop_025_01.avi', 'call_Cropped/call_Cropped/call_Crop_013_02.avi', 'call_Cropped/call_Cropped/call_Crop_015_02.avi', 'call_Cropped/call_Cropped/call_Crop_002_01.avi', 'call_Cropped/call_Cropped/call_Crop_014_01.avi', 'call_Cropped/call_Cropped/call_Crop_026_02.avi', 'call_Cropped/call_Cropped/call_Crop_012_01.avi', 'call_Cropped/call_Cropped/call_Crop_007_01.avi', 'call_Cropped/call_Cropped/call_Crop_006_01.avi', 'call_Cropped/call_Cropped/call_Crop_011_02.avi', 'call_Cropped/call_Cropped/call_Crop_013_01.avi', 'call_Cropped/call_Cropped/call_Crop_006_02.avi', 'call_Cropped/call_Cropped/call_Crop_026_01.avi', 'call_Cropped/call_Cropped/call_Crop_018_02.avi', 'call_Cropped/call_Cropped/call_Crop_023_02.avi', 'call_Cropped/call_Cropped/call_Crop_003_01.avi', 'call_Cropped/call_Cropped/call_Crop_022_02.avi', 'call_Cropped/call_Cropped/call_Crop_007_02.avi', 'call_Cropped/call_Cropped/call_Crop_022_01.avi', 'call_Cropped/call_Cropped/call_Crop_005_02.avi', 'call_Cropped/call_Cropped/call_Crop_008_01.avi', 'call_Cropped/call_Cropped/call_Crop_014_02.avi', 'call_Cropped/call_Cropped/call_Crop_023_01.avi', 'call_Cropped/call_Cropped/call_Crop_017_02.avi', 'call_Cropped/call_Cropped/call_Crop_019_01.avi'], 'doctor': ['doctor_Cropped/doctor_Cropped/doctor_Crop_022_01.avi', 'doctor_Cropped/doctor_Cropped/doctor_Crop_017_01.avi', 'doctor_Cropped/doctor_Cropped/doctor_Crop_007_02.avi', 'doctor_Cropped/doctor_Cropped/doctor_Crop_014_02.avi', 'doctor_Cropped/doctor_Cropped/doctor_Crop_001_01.avi', 'doctor_Cropped/doctor_Cropped/doctor_Crop_021_01.avi', 'doctor_Cropped/doctor_Cropped/doctor_Crop_011_02.avi', 'doctor_Cropped/doctor_Cropped/doctor_Crop_026_01.avi', 'doctor_Cropped/doctor_Cropped/doctor_Crop_018_01.avi', 'doctor_Cropped/doctor_Cropped/doctor_Crop_005_01.avi', 'doctor_Cropped/doctor_Cropped/doctor_Crop_009_01.avi', 'doctor_Cropped/doctor_Cropped/doctor_Crop_006_01.avi', 'doctor_Cropped/doctor_Cropped/doctor_Crop_020_02.avi', 'doctor_Cropped/doctor_Cropped/doctor_Crop_024_02.avi', 'doctor_Cropped/doctor_Cropped/doctor_Crop_009_02.avi', 'doctor_Cropped/doctor_Cropped/doctor_Crop_016_02.avi', 'doctor_Cropped/doctor_Cropped/doctor_Crop_012_02.avi', 'doctor_Cropped/doctor_Cropped/doctor_Crop_020_01.avi', 'doctor_Cropped/doctor_Cropped/doctor_Crop_003_01.avi', 'doctor_Cropped/doctor_Cropped/doctor_Crop_023_01.avi', 'doctor_Cropped/doctor_Cropped/doctor_Crop_017_02.avi', 'doctor_Cropped/doctor_Cropped/doctor_Crop_025_01.avi', 'doctor_Cropped/doctor_Cropped/doctor_Crop_010_02.avi', 'doctor_Cropped/doctor_Cropped/doctor_Crop_018_02.avi', 'doctor_Cropped/doctor_Cropped/doctor_Crop_021_02.avi', 'doctor_Cropped/doctor_Cropped/doctor_Crop_026_02.avi', 'doctor_Cropped/doctor_Cropped/doctor_Crop_001_02.avi', 'doctor_Cropped/doctor_Cropped/doctor_Crop_016_01.avi', 'doctor_Cropped/doctor_Cropped/doctor_Crop_014_01.avi', 'doctor_Cropped/doctor_Cropped/doctor_Crop_007_01.avi', 'doctor_Cropped/doctor_Cropped/doctor_Crop_008_02.avi', 'doctor_Cropped/doctor_Cropped/doctor_Crop_024_01.avi', 'doctor_Cropped/doctor_Cropped/doctor_Crop_013_02.avi', 'doctor_Cropped/doctor_Cropped/doctor_Crop_008_01.avi', 'doctor_Cropped/doctor_Cropped/doctor_Crop_011_01.avi', 'doctor_Cropped/doctor_Cropped/doctor_Crop_025_02.avi', 'doctor_Cropped/doctor_Cropped/doctor_Crop_002_02.avi', 'doctor_Cropped/doctor_Cropped/doctor_Crop_015_01.avi', 'doctor_Cropped/doctor_Cropped/doctor_Crop_013_01.avi', 'doctor_Cropped/doctor_Cropped/doctor_Crop_002_01.avi', 'doctor_Cropped/doctor_Cropped/doctor_Crop_003_02.avi', 'doctor_Cropped/doctor_Cropped/doctor_Crop_019_01.avi', 'doctor_Cropped/doctor_Cropped/doctor_Crop_006_02.avi', 'doctor_Cropped/doctor_Cropped/doctor_Crop_012_01.avi', 'doctor_Cropped/doctor_Cropped/doctor_Crop_004_02.avi', 'doctor_Cropped/doctor_Cropped/doctor_Crop_023_02.avi', 'doctor_Cropped/doctor_Cropped/doctor_Crop_019_02.avi', 'doctor_Cropped/doctor_Cropped/doctor_Crop_022_02.avi', 'doctor_Cropped/doctor_Cropped/doctor_Crop_004_01.avi', 'doctor_Cropped/doctor_Cropped/doctor_Crop_005_02.avi', 'doctor_Cropped/doctor_Cropped/doctor_Crop_010_01.avi', 'doctor_Cropped/doctor_Cropped/doctor_Crop_015_02.avi'], 'lose': ['lose_Cropped/lose_Cropped/lose_Crop_001_02.avi', 'lose_Cropped/lose_Cropped/lose_Crop_013_01.avi', 'lose_Cropped/lose_Cropped/lose_Crop_008_01.avi', 'lose_Cropped/lose_Cropped/lose_Crop_016_02.avi', 'lose_Cropped/lose_Cropped/lose_Crop_020_02.avi', 'lose_Cropped/lose_Cropped/lose_Crop_015_01.avi', 'lose_Cropped/lose_Cropped/lose_Crop_005_01.avi', 'lose_Cropped/lose_Cropped/lose_Crop_011_01.avi', 'lose_Cropped/lose_Cropped/lose_Crop_023_02.avi', 'lose_Cropped/lose_Cropped/lose_Crop_010_02.avi', 'lose_Cropped/lose_Cropped/lose_Crop_025_01.avi', 'lose_Cropped/lose_Cropped/lose_Crop_011_02.avi', 'lose_Cropped/lose_Cropped/lose_Crop_012_01.avi', 'lose_Cropped/lose_Cropped/lose_Crop_024_02.avi', 'lose_Cropped/lose_Cropped/lose_Crop_026_02.avi', 'lose_Cropped/lose_Cropped/lose_Crop_015_02.avi', 'lose_Cropped/lose_Cropped/lose_Crop_005_02.avi', 'lose_Cropped/lose_Cropped/lose_Crop_002_02.avi', 'lose_Cropped/lose_Cropped/lose_Crop_003_01.avi', 'lose_Cropped/lose_Cropped/lose_Crop_023_01.avi', 'lose_Cropped/lose_Cropped/lose_Crop_018_02.avi', 'lose_Cropped/lose_Cropped/lose_Crop_014_01.avi', 'lose_Cropped/lose_Cropped/lose_Crop_013_02.avi', 'lose_Cropped/lose_Cropped/lose_Crop_003_02.avi', 'lose_Cropped/lose_Cropped/lose_Crop_006_01.avi', 'lose_Cropped/lose_Cropped/lose_Crop_004_01.avi', 'lose_Cropped/lose_Cropped/lose_Crop_025_02.avi', 'lose_Cropped/lose_Cropped/lose_Crop_017_02.avi', 'lose_Cropped/lose_Cropped/lose_Crop_017_01.avi', 'lose_Cropped/lose_Cropped/lose_Crop_020_01.avi', 'lose_Cropped/lose_Cropped/lose_Crop_004_02.avi', 'lose_Cropped/lose_Cropped/lose_Crop_021_01.avi', 'lose_Cropped/lose_Cropped/lose_Crop_026_01.avi', 'lose_Cropped/lose_Cropped/lose_Crop_012_02.avi', 'lose_Cropped/lose_Cropped/lose_Crop_022_02.avi', 'lose_Cropped/lose_Cropped/lose_Crop_022_01.avi', 'lose_Cropped/lose_Cropped/lose_Crop_009_02.avi', 'lose_Cropped/lose_Cropped/lose_Crop_006_02.avi', 'lose_Cropped/lose_Cropped/lose_Crop_002_01.avi', 'lose_Cropped/lose_Cropped/lose_Crop_009_01.avi', 'lose_Cropped/lose_Cropped/lose_Crop_007_01.avi', 'lose_Cropped/lose_Cropped/lose_Crop_001_01.avi', 'lose_Cropped/lose_Cropped/lose_Crop_024_01.avi', 'lose_Cropped/lose_Cropped/lose_Crop_007_02.avi', 'lose_Cropped/lose_Cropped/lose_Crop_010_01.avi', 'lose_Cropped/lose_Cropped/lose_Crop_014_02.avi', 'lose_Cropped/lose_Cropped/lose_Crop_016_01.avi', 'lose_Cropped/lose_Cropped/lose_Crop_008_02.avi', 'lose_Cropped/lose_Cropped/lose_Crop_018_01.avi', 'lose_Cropped/lose_Cropped/lose_Crop_021_02.avi'], 'pain': ['pain_Cropped/pain_Cropped/pain_Crop_025_02.avi', 'pain_Cropped/pain_Cropped/pain_Crop_021_01.avi', 'pain_Cropped/pain_Cropped/pain_Crop_008_02.avi', 'pain_Cropped/pain_Cropped/pain_Crop_019_01.avi', 'pain_Cropped/pain_Cropped/pain_Crop_009_02.avi', 'pain_Cropped/pain_Cropped/pain_Crop_022_02.avi', 'pain_Cropped/pain_Cropped/pain_Crop_015_01.avi', 'pain_Cropped/pain_Cropped/pain_Crop_016_01.avi', 'pain_Cropped/pain_Cropped/pain_Crop_005_01.avi', 'pain_Cropped/pain_Cropped/pain_Crop_009_01.avi', 'pain_Cropped/pain_Cropped/pain_Crop_004_02.avi', 'pain_Cropped/pain_Cropped/pain_Crop_025_01.avi', 'pain_Cropped/pain_Cropped/pain_Crop_005_02.avi', 'pain_Cropped/pain_Cropped/pain_Crop_010_01.avi', 'pain_Cropped/pain_Cropped/pain_Crop_004_01.avi', 'pain_Cropped/pain_Cropped/pain_Crop_016_02.avi', 'pain_Cropped/pain_Cropped/pain_Crop_023_02.avi', 'pain_Cropped/pain_Cropped/pain_Crop_001_02.avi', 'pain_Cropped/pain_Cropped/pain_Crop_011_01.avi', 'pain_Cropped/pain_Cropped/pain_Crop_026_02.avi', 'pain_Cropped/pain_Cropped/pain_Crop_023_01.avi', 'pain_Cropped/pain_Cropped/pain_Crop_006_02.avi', 'pain_Cropped/pain_Cropped/pain_Crop_007_02.avi', 'pain_Cropped/pain_Cropped/pain_Crop_001_01.avi', 'pain_Cropped/pain_Cropped/pain_Crop_018_02.avi', 'pain_Cropped/pain_Cropped/pain_Crop_002_02.avi', 'pain_Cropped/pain_Cropped/pain_Crop_002_01.avi', 'pain_Cropped/pain_Cropped/pain_Crop_008_01.avi', 'pain_Cropped/pain_Cropped/pain_Crop_017_02.avi', 'pain_Cropped/pain_Cropped/pain_Crop_003_02.avi', 'pain_Cropped/pain_Cropped/pain_Crop_020_02.avi', 'pain_Cropped/pain_Cropped/pain_Crop_017_01.avi', 'pain_Cropped/pain_Cropped/pain_Crop_013_02.avi', 'pain_Cropped/pain_Cropped/pain_Crop_011_02.avi', 'pain_Cropped/pain_Cropped/pain_Crop_010_02.avi', 'pain_Cropped/pain_Cropped/pain_Crop_026_01.avi', 'pain_Cropped/pain_Cropped/pain_Crop_018_01.avi', 'pain_Cropped/pain_Cropped/pain_Crop_006_01.avi', 'pain_Cropped/pain_Cropped/pain_Crop_024_02.avi', 'pain_Cropped/pain_Cropped/pain_Crop_003_01.avi', 'pain_Cropped/pain_Cropped/pain_Crop_007_01.avi', 'pain_Cropped/pain_Cropped/pain_Crop_019_02.avi', 'pain_Cropped/pain_Cropped/pain_Crop_014_02.avi', 'pain_Cropped/pain_Cropped/pain_Crop_013_01.avi', 'pain_Cropped/pain_Cropped/pain_Crop_012_02.avi', 'pain_Cropped/pain_Cropped/pain_Crop_024_01.avi', 'pain_Cropped/pain_Cropped/pain_Crop_022_01.avi', 'pain_Cropped/pain_Cropped/pain_Crop_020_01.avi', 'pain_Cropped/pain_Cropped/pain_Crop_014_01.avi', 'pain_Cropped/pain_Cropped/pain_Crop_012_01.avi', 'pain_Cropped/pain_Cropped/pain_Crop_021_02.avi', 'pain_Cropped/pain_Cropped/pain_Crop_015_02.avi']}\n"
     ]
    }
   ],
   "source": [
    "# map = {}\n",
    "\n",
    "# for folder in os.listdir(data) : \n",
    "#     label = folder.split('_')[0]\n",
    "\n",
    "#     video_paths = os.listdir(os.path.join(data,folder,folder))\n",
    "\n",
    "#     new_path = []\n",
    "\n",
    "#     for string in video_paths : \n",
    "#         new_path.append(os.path.join(folder,folder,string))\n",
    "\n",
    "#     map[label] = new_path\n",
    "\n",
    "# print(map)"
   ]
  },
  {
   "cell_type": "code",
   "execution_count": 4,
   "metadata": {},
   "outputs": [],
   "source": [
    "# vid_link = []\n",
    "# label = []\n",
    "# numerical = []\n",
    "\n",
    "# count = 0\n",
    "\n",
    "# label_num_map = {}\n",
    "\n",
    "# for key in map.keys() :\n",
    "#     for i in range(len(map[key])) : \n",
    "#         vid_link.append(map[key][i])    \n",
    "#         label.append(key)\n",
    "#         numerical.append(count)\n",
    "\n",
    "#     count += 1\n",
    "\n",
    "# df = pd.DataFrame(columns=[\"vid\",\"label\",\"label_num\"])\n",
    "\n",
    "# df['vid'] = vid_link\n",
    "# df['label'] = label\n",
    "# df['label_num'] = numerical"
   ]
  },
  {
   "cell_type": "code",
   "execution_count": 5,
   "metadata": {},
   "outputs": [
    {
     "name": "stdout",
     "output_type": "stream",
     "text": [
      "<class 'pandas.core.frame.DataFrame'>\n",
      "RangeIndex: 412 entries, 0 to 411\n",
      "Data columns (total 3 columns):\n",
      " #   Column     Non-Null Count  Dtype \n",
      "---  ------     --------------  ----- \n",
      " 0   vid        412 non-null    object\n",
      " 1   label      412 non-null    object\n",
      " 2   label_num  412 non-null    int64 \n",
      "dtypes: int64(1), object(2)\n",
      "memory usage: 9.8+ KB\n"
     ]
    }
   ],
   "source": [
    "# df.info()"
   ]
  },
  {
   "cell_type": "code",
   "execution_count": 6,
   "metadata": {},
   "outputs": [
    {
     "data": {
      "text/html": [
       "<div>\n",
       "<style scoped>\n",
       "    .dataframe tbody tr th:only-of-type {\n",
       "        vertical-align: middle;\n",
       "    }\n",
       "\n",
       "    .dataframe tbody tr th {\n",
       "        vertical-align: top;\n",
       "    }\n",
       "\n",
       "    .dataframe thead th {\n",
       "        text-align: right;\n",
       "    }\n",
       "</style>\n",
       "<table border=\"1\" class=\"dataframe\">\n",
       "  <thead>\n",
       "    <tr style=\"text-align: right;\">\n",
       "      <th></th>\n",
       "      <th>vid</th>\n",
       "      <th>label</th>\n",
       "      <th>label_num</th>\n",
       "    </tr>\n",
       "  </thead>\n",
       "  <tbody>\n",
       "    <tr>\n",
       "      <th>0</th>\n",
       "      <td>accident_Cropped/accident_Cropped/accident_Cro...</td>\n",
       "      <td>accident</td>\n",
       "      <td>0</td>\n",
       "    </tr>\n",
       "    <tr>\n",
       "      <th>1</th>\n",
       "      <td>accident_Cropped/accident_Cropped/accident_Cro...</td>\n",
       "      <td>accident</td>\n",
       "      <td>0</td>\n",
       "    </tr>\n",
       "    <tr>\n",
       "      <th>2</th>\n",
       "      <td>accident_Cropped/accident_Cropped/accident_Cro...</td>\n",
       "      <td>accident</td>\n",
       "      <td>0</td>\n",
       "    </tr>\n",
       "    <tr>\n",
       "      <th>3</th>\n",
       "      <td>accident_Cropped/accident_Cropped/accident_Cro...</td>\n",
       "      <td>accident</td>\n",
       "      <td>0</td>\n",
       "    </tr>\n",
       "    <tr>\n",
       "      <th>4</th>\n",
       "      <td>accident_Cropped/accident_Cropped/accident_Cro...</td>\n",
       "      <td>accident</td>\n",
       "      <td>0</td>\n",
       "    </tr>\n",
       "  </tbody>\n",
       "</table>\n",
       "</div>"
      ],
      "text/plain": [
       "                                                 vid     label  label_num\n",
       "0  accident_Cropped/accident_Cropped/accident_Cro...  accident          0\n",
       "1  accident_Cropped/accident_Cropped/accident_Cro...  accident          0\n",
       "2  accident_Cropped/accident_Cropped/accident_Cro...  accident          0\n",
       "3  accident_Cropped/accident_Cropped/accident_Cro...  accident          0\n",
       "4  accident_Cropped/accident_Cropped/accident_Cro...  accident          0"
      ]
     },
     "execution_count": 6,
     "metadata": {},
     "output_type": "execute_result"
    }
   ],
   "source": [
    "# df.head()"
   ]
  },
  {
   "cell_type": "code",
   "execution_count": 7,
   "metadata": {},
   "outputs": [
    {
     "data": {
      "text/plain": [
       "'/home/karan/temp/data/accident_Cropped/accident_Cropped/accident_Crop_012_01.avi'"
      ]
     },
     "execution_count": 7,
     "metadata": {},
     "output_type": "execute_result"
    }
   ],
   "source": [
    "# os.path.join(data,df['vid'][0])"
   ]
  },
  {
   "cell_type": "code",
   "execution_count": 8,
   "metadata": {},
   "outputs": [
    {
     "name": "stdout",
     "output_type": "stream",
     "text": [
      "132.0 48.0\n"
     ]
    }
   ],
   "source": [
    "# import cv2\n",
    "\n",
    "# max_frames = 0\n",
    "# min_frames = 150\n",
    "\n",
    "# for i in range(len(df)) : \n",
    "#     vidcap = cv2.VideoCapture(os.path.join(data,df['vid'][i]))\n",
    "\n",
    "#     total_frames = vidcap.get(cv2.CAP_PROP_FRAME_COUNT)\n",
    "#     max_frames = max(total_frames,max_frames)\n",
    "#     min_frames = min(total_frames, min_frames)\n",
    "\n",
    "# print(max_frames, min_frames)"
   ]
  },
  {
   "cell_type": "code",
   "execution_count": 9,
   "metadata": {},
   "outputs": [],
   "source": [
    "# from sklearn.model_selection import train_test_split"
   ]
  },
  {
   "cell_type": "code",
   "execution_count": 10,
   "metadata": {},
   "outputs": [],
   "source": [
    "# train, test = train_test_split(df, test_size = 0.2, stratify = df['label'], random_state=42)"
   ]
  },
  {
   "cell_type": "code",
   "execution_count": 11,
   "metadata": {},
   "outputs": [],
   "source": [
    "# train, val = train_test_split(train, test_size=0.2, stratify=train['label'], random_state=42)"
   ]
  },
  {
   "cell_type": "code",
   "execution_count": 48,
   "metadata": {},
   "outputs": [],
   "source": [
    "# train.to_csv('/home/karan/temp/csv_data/train.csv')\n",
    "# val.to_csv('/home/karan/temp/csv_data/val.csv')\n",
    "# test.to_csv('/home/karan/temp/csv_data/test.csv')"
   ]
  },
  {
   "cell_type": "code",
   "execution_count": 3,
   "metadata": {},
   "outputs": [],
   "source": [
    "train = pd.read_csv(os.path.join(root,'csv_data','train.csv'))\n",
    "val = pd.read_csv(os.path.join(root,'csv_data','val.csv'))\n",
    "test = pd.read_csv(os.path.join(root,'csv_data','test.csv'))"
   ]
  },
  {
   "cell_type": "code",
   "execution_count": 4,
   "metadata": {},
   "outputs": [
    {
     "data": {
      "text/plain": [
       "Index(['Unnamed: 0', 'vid', 'label', 'label_num'], dtype='object')"
      ]
     },
     "execution_count": 4,
     "metadata": {},
     "output_type": "execute_result"
    }
   ],
   "source": [
    "train.columns"
   ]
  },
  {
   "cell_type": "code",
   "execution_count": 55,
   "metadata": {},
   "outputs": [],
   "source": [
    "label_map = {}\n",
    "\n",
    "for i in range(len(train)):\n",
    "    if train['label'].iloc[i] not in label_map:\n",
    "        label_map[train['label'].iloc[i]] = train['label_num'].iloc[i]\n",
    "    \n",
    "    if len(label_map.keys()) == 8:\n",
    "        break"
   ]
  },
  {
   "cell_type": "code",
   "execution_count": 56,
   "metadata": {},
   "outputs": [
    {
     "data": {
      "text/plain": [
       "{'hot': 2,\n",
       " 'doctor': 5,\n",
       " 'help': 1,\n",
       " 'call': 4,\n",
       " 'lose': 6,\n",
       " 'accident': 0,\n",
       " 'thief': 3,\n",
       " 'pain': 7}"
      ]
     },
     "execution_count": 56,
     "metadata": {},
     "output_type": "execute_result"
    }
   ],
   "source": [
    "label_map"
   ]
  },
  {
   "cell_type": "code",
   "execution_count": 12,
   "metadata": {},
   "outputs": [],
   "source": [
    "# train.to_csv(os.path.join(data, 'train.csv'))\n",
    "# val.to_csv(os.path.join(data, 'val.csv'))\n",
    "# test.to_csv(os.path.join(data, 'test.csv'))"
   ]
  },
  {
   "cell_type": "code",
   "execution_count": 13,
   "metadata": {},
   "outputs": [
    {
     "data": {
      "text/plain": [
       "'accident_Cropped/accident_Cropped/accident_Crop_012_01.avi'"
      ]
     },
     "execution_count": 13,
     "metadata": {},
     "output_type": "execute_result"
    }
   ],
   "source": [
    "train['vid'][0]"
   ]
  },
  {
   "cell_type": "code",
   "execution_count": 4,
   "metadata": {},
   "outputs": [],
   "source": [
    "import torch \n",
    "import torch.nn as nn\n",
    "from torch.utils.data import DataLoader\n",
    "import torch.nn.functional as F\n",
    "import torchvision\n",
    "from torchvision import transforms\n",
    "import videotransforms\n",
    "from datasets.nslt_dataset import NSLT as Dataset"
   ]
  },
  {
   "cell_type": "code",
   "execution_count": 5,
   "metadata": {},
   "outputs": [
    {
     "data": {
      "text/plain": [
       "2"
      ]
     },
     "execution_count": 5,
     "metadata": {},
     "output_type": "execute_result"
    }
   ],
   "source": [
    "torch.cuda.device_count()"
   ]
  },
  {
   "cell_type": "code",
   "execution_count": 6,
   "metadata": {},
   "outputs": [],
   "source": [
    "device = torch.device('cuda:1')"
   ]
  },
  {
   "cell_type": "code",
   "execution_count": 7,
   "metadata": {},
   "outputs": [],
   "source": [
    "batch_size = 4"
   ]
  },
  {
   "cell_type": "code",
   "execution_count": 8,
   "metadata": {},
   "outputs": [],
   "source": [
    "train_transforms = transforms.Compose([videotransforms.RandomCrop(224),\n",
    "                                       videotransforms.RandomHorizontalFlip(),])\n",
    "\n",
    "test_transforms = transforms.Compose([videotransforms.CenterCrop(224)])\n",
    "\n",
    "train_loader = DataLoader(Dataset(data,train,train_transforms),batch_size=batch_size)\n",
    "val_loader = DataLoader(Dataset(data,val,test_transforms),batch_size=batch_size)\n",
    "test_loader = DataLoader(Dataset(data,test,test_transforms),batch_size=batch_size)"
   ]
  },
  {
   "cell_type": "code",
   "execution_count": 9,
   "metadata": {},
   "outputs": [
    {
     "data": {
      "text/plain": [
       "[tensor([[[[[-0.2392, -0.2549, -0.2392,  ..., -0.2235, -0.2471, -0.2314],\n",
       "            [-0.2078, -0.2157, -0.2078,  ..., -0.2471, -0.2549, -0.2392],\n",
       "            [-0.2078, -0.1922, -0.1922,  ..., -0.2627, -0.2706, -0.2627],\n",
       "            ...,\n",
       "            [-0.3098, -0.3020, -0.2941,  ..., -0.3490, -0.3098, -0.3020],\n",
       "            [-0.2863, -0.2941, -0.3020,  ..., -0.3647, -0.3255, -0.3098],\n",
       "            [-0.2627, -0.2784, -0.3098,  ..., -0.3333, -0.3333, -0.3490]],\n",
       " \n",
       "           [[-0.2471, -0.2471, -0.2392,  ..., -0.2314, -0.2314, -0.2392],\n",
       "            [-0.2706, -0.2471, -0.2392,  ..., -0.2706, -0.2392, -0.2392],\n",
       "            [-0.2471, -0.2157, -0.2235,  ..., -0.2706, -0.2706, -0.2863],\n",
       "            ...,\n",
       "            [-0.3020, -0.2941, -0.2784,  ..., -0.2941, -0.3098, -0.2706],\n",
       "            [-0.2706, -0.2941, -0.2784,  ..., -0.2863, -0.2706, -0.2784],\n",
       "            [-0.2784, -0.2941, -0.2863,  ..., -0.3020, -0.3020, -0.3333]],\n",
       " \n",
       "           [[-0.2471, -0.2392, -0.2392,  ..., -0.2784, -0.2863, -0.2863],\n",
       "            [-0.2471, -0.2392, -0.2392,  ..., -0.2784, -0.2784, -0.2784],\n",
       "            [-0.2549, -0.2471, -0.2471,  ..., -0.2627, -0.2549, -0.2627],\n",
       "            ...,\n",
       "            [-0.2627, -0.2314, -0.2863,  ..., -0.2941, -0.3098, -0.3020],\n",
       "            [-0.2784, -0.2471, -0.2863,  ..., -0.3020, -0.2549, -0.2706],\n",
       "            [-0.3176, -0.2941, -0.2863,  ..., -0.3176, -0.3333, -0.3255]],\n",
       " \n",
       "           ...,\n",
       " \n",
       "           [[-0.2392, -0.2549, -0.2392,  ..., -0.2235, -0.2471, -0.2314],\n",
       "            [-0.2078, -0.2157, -0.2078,  ..., -0.2471, -0.2549, -0.2392],\n",
       "            [-0.2078, -0.1922, -0.1922,  ..., -0.2627, -0.2706, -0.2627],\n",
       "            ...,\n",
       "            [-0.3098, -0.3020, -0.2941,  ..., -0.3490, -0.3098, -0.3020],\n",
       "            [-0.2863, -0.2941, -0.3020,  ..., -0.3647, -0.3255, -0.3098],\n",
       "            [-0.2627, -0.2784, -0.3098,  ..., -0.3333, -0.3333, -0.3490]],\n",
       " \n",
       "           [[-0.2392, -0.2549, -0.2392,  ..., -0.2235, -0.2471, -0.2314],\n",
       "            [-0.2078, -0.2157, -0.2078,  ..., -0.2471, -0.2549, -0.2392],\n",
       "            [-0.2078, -0.1922, -0.1922,  ..., -0.2627, -0.2706, -0.2627],\n",
       "            ...,\n",
       "            [-0.3098, -0.3020, -0.2941,  ..., -0.3490, -0.3098, -0.3020],\n",
       "            [-0.2863, -0.2941, -0.3020,  ..., -0.3647, -0.3255, -0.3098],\n",
       "            [-0.2627, -0.2784, -0.3098,  ..., -0.3333, -0.3333, -0.3490]],\n",
       " \n",
       "           [[-0.2392, -0.2549, -0.2392,  ..., -0.2235, -0.2471, -0.2314],\n",
       "            [-0.2078, -0.2157, -0.2078,  ..., -0.2471, -0.2549, -0.2392],\n",
       "            [-0.2078, -0.1922, -0.1922,  ..., -0.2627, -0.2706, -0.2627],\n",
       "            ...,\n",
       "            [-0.3098, -0.3020, -0.2941,  ..., -0.3490, -0.3098, -0.3020],\n",
       "            [-0.2863, -0.2941, -0.3020,  ..., -0.3647, -0.3255, -0.3098],\n",
       "            [-0.2627, -0.2784, -0.3098,  ..., -0.3333, -0.3333, -0.3490]]],\n",
       " \n",
       " \n",
       "          [[[-0.2706, -0.2784, -0.2627,  ..., -0.2392, -0.2627, -0.2706],\n",
       "            [-0.2471, -0.2549, -0.2471,  ..., -0.2627, -0.2706, -0.2784],\n",
       "            [-0.2471, -0.2314, -0.2314,  ..., -0.2784, -0.2863, -0.3020],\n",
       "            ...,\n",
       "            [-0.4039, -0.3961, -0.3882,  ..., -0.4510, -0.4118, -0.3882],\n",
       "            [-0.3804, -0.3882, -0.3961,  ..., -0.4588, -0.4275, -0.4039],\n",
       "            [-0.3569, -0.3725, -0.4039,  ..., -0.4353, -0.4353, -0.4353]],\n",
       " \n",
       "           [[-0.2706, -0.2706, -0.2627,  ..., -0.2549, -0.2549, -0.2627],\n",
       "            [-0.2941, -0.2706, -0.2627,  ..., -0.2941, -0.2627, -0.2627],\n",
       "            [-0.2706, -0.2392, -0.2471,  ..., -0.2941, -0.2941, -0.3098],\n",
       "            ...,\n",
       "            [-0.3961, -0.3882, -0.3725,  ..., -0.3882, -0.4039, -0.3725],\n",
       "            [-0.3647, -0.3882, -0.3804,  ..., -0.3804, -0.3647, -0.3804],\n",
       "            [-0.3725, -0.3882, -0.3804,  ..., -0.3961, -0.3961, -0.4353]],\n",
       " \n",
       "           [[-0.2471, -0.2392, -0.2392,  ..., -0.2784, -0.2863, -0.2863],\n",
       "            [-0.2471, -0.2392, -0.2392,  ..., -0.2784, -0.2784, -0.2784],\n",
       "            [-0.2549, -0.2471, -0.2471,  ..., -0.2627, -0.2549, -0.2627],\n",
       "            ...,\n",
       "            [-0.3647, -0.3333, -0.3882,  ..., -0.3961, -0.4118, -0.4196],\n",
       "            [-0.3804, -0.3490, -0.3961,  ..., -0.4039, -0.3647, -0.3882],\n",
       "            [-0.4196, -0.3961, -0.3882,  ..., -0.4196, -0.4353, -0.4431]],\n",
       " \n",
       "           ...,\n",
       " \n",
       "           [[-0.2706, -0.2784, -0.2627,  ..., -0.2392, -0.2627, -0.2706],\n",
       "            [-0.2471, -0.2549, -0.2471,  ..., -0.2627, -0.2706, -0.2784],\n",
       "            [-0.2471, -0.2314, -0.2314,  ..., -0.2784, -0.2863, -0.3020],\n",
       "            ...,\n",
       "            [-0.4039, -0.3961, -0.3882,  ..., -0.4510, -0.4118, -0.3882],\n",
       "            [-0.3804, -0.3882, -0.3961,  ..., -0.4588, -0.4275, -0.4039],\n",
       "            [-0.3569, -0.3725, -0.4039,  ..., -0.4353, -0.4353, -0.4353]],\n",
       " \n",
       "           [[-0.2706, -0.2784, -0.2627,  ..., -0.2392, -0.2627, -0.2706],\n",
       "            [-0.2471, -0.2549, -0.2471,  ..., -0.2627, -0.2706, -0.2784],\n",
       "            [-0.2471, -0.2314, -0.2314,  ..., -0.2784, -0.2863, -0.3020],\n",
       "            ...,\n",
       "            [-0.4039, -0.3961, -0.3882,  ..., -0.4510, -0.4118, -0.3882],\n",
       "            [-0.3804, -0.3882, -0.3961,  ..., -0.4588, -0.4275, -0.4039],\n",
       "            [-0.3569, -0.3725, -0.4039,  ..., -0.4353, -0.4353, -0.4353]],\n",
       " \n",
       "           [[-0.2706, -0.2784, -0.2627,  ..., -0.2392, -0.2627, -0.2706],\n",
       "            [-0.2471, -0.2549, -0.2471,  ..., -0.2627, -0.2706, -0.2784],\n",
       "            [-0.2471, -0.2314, -0.2314,  ..., -0.2784, -0.2863, -0.3020],\n",
       "            ...,\n",
       "            [-0.4039, -0.3961, -0.3882,  ..., -0.4510, -0.4118, -0.3882],\n",
       "            [-0.3804, -0.3882, -0.3961,  ..., -0.4588, -0.4275, -0.4039],\n",
       "            [-0.3569, -0.3725, -0.4039,  ..., -0.4353, -0.4353, -0.4353]]],\n",
       " \n",
       " \n",
       "          [[[-0.3647, -0.3725, -0.3569,  ..., -0.3569, -0.3804, -0.3647],\n",
       "            [-0.3412, -0.3490, -0.3412,  ..., -0.3804, -0.3882, -0.3725],\n",
       "            [-0.3412, -0.3255, -0.3333,  ..., -0.3961, -0.4039, -0.3961],\n",
       "            ...,\n",
       "            [-0.5137, -0.5059, -0.4980,  ..., -0.5373, -0.4980, -0.4745],\n",
       "            [-0.4902, -0.4980, -0.5059,  ..., -0.5451, -0.5137, -0.4902],\n",
       "            [-0.4667, -0.4824, -0.5137,  ..., -0.5216, -0.5216, -0.5216]],\n",
       " \n",
       "           [[-0.3647, -0.3647, -0.3490,  ..., -0.3490, -0.3490, -0.3569],\n",
       "            [-0.3882, -0.3647, -0.3569,  ..., -0.3882, -0.3569, -0.3569],\n",
       "            [-0.3647, -0.3333, -0.3412,  ..., -0.3882, -0.3882, -0.4039],\n",
       "            ...,\n",
       "            [-0.5059, -0.4980, -0.4824,  ..., -0.4980, -0.5137, -0.4588],\n",
       "            [-0.4745, -0.4980, -0.4824,  ..., -0.4902, -0.4745, -0.4667],\n",
       "            [-0.4824, -0.4902, -0.4902,  ..., -0.5059, -0.5059, -0.5216]],\n",
       " \n",
       "           [[-0.3490, -0.3412, -0.3412,  ..., -0.3804, -0.3882, -0.3882],\n",
       "            [-0.3490, -0.3412, -0.3412,  ..., -0.3804, -0.3804, -0.3804],\n",
       "            [-0.3569, -0.3490, -0.3490,  ..., -0.3647, -0.3569, -0.3647],\n",
       "            ...,\n",
       "            [-0.4510, -0.4196, -0.4745,  ..., -0.4824, -0.4980, -0.4980],\n",
       "            [-0.4667, -0.4353, -0.4745,  ..., -0.4902, -0.4510, -0.4745],\n",
       "            [-0.5059, -0.4824, -0.4745,  ..., -0.5059, -0.5137, -0.5216]],\n",
       " \n",
       "           ...,\n",
       " \n",
       "           [[-0.3647, -0.3725, -0.3569,  ..., -0.3569, -0.3804, -0.3647],\n",
       "            [-0.3412, -0.3490, -0.3412,  ..., -0.3804, -0.3882, -0.3725],\n",
       "            [-0.3412, -0.3255, -0.3333,  ..., -0.3961, -0.4039, -0.3961],\n",
       "            ...,\n",
       "            [-0.5137, -0.5059, -0.4980,  ..., -0.5373, -0.4980, -0.4745],\n",
       "            [-0.4902, -0.4980, -0.5059,  ..., -0.5451, -0.5137, -0.4902],\n",
       "            [-0.4667, -0.4824, -0.5137,  ..., -0.5216, -0.5216, -0.5216]],\n",
       " \n",
       "           [[-0.3647, -0.3725, -0.3569,  ..., -0.3569, -0.3804, -0.3647],\n",
       "            [-0.3412, -0.3490, -0.3412,  ..., -0.3804, -0.3882, -0.3725],\n",
       "            [-0.3412, -0.3255, -0.3333,  ..., -0.3961, -0.4039, -0.3961],\n",
       "            ...,\n",
       "            [-0.5137, -0.5059, -0.4980,  ..., -0.5373, -0.4980, -0.4745],\n",
       "            [-0.4902, -0.4980, -0.5059,  ..., -0.5451, -0.5137, -0.4902],\n",
       "            [-0.4667, -0.4824, -0.5137,  ..., -0.5216, -0.5216, -0.5216]],\n",
       " \n",
       "           [[-0.3647, -0.3725, -0.3569,  ..., -0.3569, -0.3804, -0.3647],\n",
       "            [-0.3412, -0.3490, -0.3412,  ..., -0.3804, -0.3882, -0.3725],\n",
       "            [-0.3412, -0.3255, -0.3333,  ..., -0.3961, -0.4039, -0.3961],\n",
       "            ...,\n",
       "            [-0.5137, -0.5059, -0.4980,  ..., -0.5373, -0.4980, -0.4745],\n",
       "            [-0.4902, -0.4980, -0.5059,  ..., -0.5451, -0.5137, -0.4902],\n",
       "            [-0.4667, -0.4824, -0.5137,  ..., -0.5216, -0.5216, -0.5216]]]],\n",
       " \n",
       " \n",
       " \n",
       "         [[[[-0.5294, -0.5294, -0.5373,  ..., -0.4902, -0.5216, -0.5373],\n",
       "            [-0.5373, -0.5529, -0.5608,  ..., -0.4431, -0.4902, -0.5294],\n",
       "            [-0.5608, -0.5451, -0.5451,  ..., -0.4902, -0.5137, -0.4980],\n",
       "            ...,\n",
       "            [-0.5843, -0.6000, -0.6078,  ..., -0.4039, -0.4039, -0.4275],\n",
       "            [-0.6157, -0.6157, -0.5765,  ..., -0.4118, -0.4353, -0.4824],\n",
       "            [-0.5843, -0.6000, -0.5843,  ..., -0.4275, -0.4275, -0.4588]],\n",
       " \n",
       "           [[-0.5608, -0.5608, -0.6000,  ..., -0.4353, -0.4510, -0.4745],\n",
       "            [-0.5294, -0.5373, -0.5765,  ..., -0.3961, -0.4275, -0.4588],\n",
       "            [-0.5451, -0.5294, -0.5529,  ..., -0.4588, -0.4745, -0.4824],\n",
       "            ...,\n",
       "            [-0.5373, -0.5686, -0.5608,  ..., -0.3725, -0.4275, -0.4353],\n",
       "            [-0.5451, -0.5608, -0.5373,  ..., -0.4039, -0.4275, -0.4510],\n",
       "            [-0.5529, -0.5843, -0.6235,  ..., -0.4588, -0.4667, -0.4275]],\n",
       " \n",
       "           [[-0.5608, -0.5529, -0.5529,  ..., -0.4588, -0.4824, -0.4824],\n",
       "            [-0.5686, -0.5216, -0.5137,  ..., -0.4667, -0.4745, -0.4824],\n",
       "            [-0.5765, -0.5529, -0.5137,  ..., -0.4667, -0.4980, -0.5451],\n",
       "            ...,\n",
       "            [-0.6941, -0.6863, -0.6784,  ..., -0.4431, -0.4745, -0.4510],\n",
       "            [-0.5843, -0.5765, -0.6078,  ..., -0.4118, -0.4431, -0.4118],\n",
       "            [-0.5765, -0.5843, -0.6157,  ..., -0.3961, -0.4039, -0.4196]],\n",
       " \n",
       "           ...,\n",
       " \n",
       "           [[-0.5765, -0.5843, -0.5294,  ..., -0.4902, -0.5294, -0.5686],\n",
       "            [-0.6000, -0.6000, -0.5294,  ..., -0.4980, -0.5137, -0.5294],\n",
       "            [-0.5922, -0.6000, -0.5843,  ..., -0.5216, -0.4824, -0.4980],\n",
       "            ...,\n",
       "            [-0.6078, -0.6000, -0.6078,  ..., -0.4824, -0.4588, -0.4745],\n",
       "            [-0.6314, -0.5922, -0.5529,  ..., -0.4510, -0.4588, -0.4588],\n",
       "            [-0.6235, -0.5922, -0.5922,  ..., -0.4353, -0.4431, -0.4510]],\n",
       " \n",
       "           [[-0.5765, -0.5843, -0.5294,  ..., -0.4902, -0.5294, -0.5686],\n",
       "            [-0.6000, -0.6000, -0.5294,  ..., -0.4980, -0.5137, -0.5294],\n",
       "            [-0.5922, -0.6000, -0.5843,  ..., -0.5216, -0.4824, -0.4980],\n",
       "            ...,\n",
       "            [-0.6078, -0.6000, -0.6078,  ..., -0.4824, -0.4588, -0.4745],\n",
       "            [-0.6314, -0.5922, -0.5529,  ..., -0.4510, -0.4588, -0.4588],\n",
       "            [-0.6235, -0.5922, -0.5922,  ..., -0.4353, -0.4431, -0.4510]],\n",
       " \n",
       "           [[-0.5765, -0.5843, -0.5294,  ..., -0.4902, -0.5294, -0.5686],\n",
       "            [-0.6000, -0.6000, -0.5294,  ..., -0.4980, -0.5137, -0.5294],\n",
       "            [-0.5922, -0.6000, -0.5843,  ..., -0.5216, -0.4824, -0.4980],\n",
       "            ...,\n",
       "            [-0.6078, -0.6000, -0.6078,  ..., -0.4824, -0.4588, -0.4745],\n",
       "            [-0.6314, -0.5922, -0.5529,  ..., -0.4510, -0.4588, -0.4588],\n",
       "            [-0.6235, -0.5922, -0.5922,  ..., -0.4353, -0.4431, -0.4510]]],\n",
       " \n",
       " \n",
       "          [[[-0.4745, -0.4667, -0.4745,  ..., -0.5451, -0.5765, -0.5922],\n",
       "            [-0.4667, -0.4824, -0.4902,  ..., -0.4980, -0.5451, -0.5922],\n",
       "            [-0.4902, -0.4745, -0.4745,  ..., -0.5451, -0.5765, -0.5529],\n",
       "            ...,\n",
       "            [-0.6863, -0.6941, -0.7098,  ..., -0.5059, -0.4902, -0.5137],\n",
       "            [-0.7176, -0.7176, -0.6784,  ..., -0.5137, -0.5216, -0.5686],\n",
       "            [-0.6706, -0.6863, -0.6784,  ..., -0.5373, -0.5373, -0.5686]],\n",
       " \n",
       "           [[-0.4902, -0.4902, -0.5294,  ..., -0.5059, -0.5216, -0.5451],\n",
       "            [-0.4431, -0.4510, -0.4902,  ..., -0.4588, -0.4902, -0.5216],\n",
       "            [-0.4510, -0.4353, -0.4588,  ..., -0.5137, -0.5216, -0.5373],\n",
       "            ...,\n",
       "            [-0.6314, -0.6627, -0.6627,  ..., -0.4824, -0.5294, -0.5451],\n",
       "            [-0.6392, -0.6549, -0.6392,  ..., -0.5137, -0.5451, -0.5608],\n",
       "            [-0.6471, -0.6784, -0.7176,  ..., -0.5529, -0.5608, -0.5294]],\n",
       " \n",
       "           [[-0.4824, -0.4745, -0.4745,  ..., -0.4824, -0.5137, -0.5059],\n",
       "            [-0.4902, -0.4353, -0.4275,  ..., -0.4902, -0.4980, -0.5059],\n",
       "            [-0.4745, -0.4588, -0.4196,  ..., -0.4902, -0.5216, -0.5686],\n",
       "            ...,\n",
       "            [-0.7412, -0.7333, -0.7255,  ..., -0.5843, -0.6157, -0.5922],\n",
       "            [-0.6314, -0.6235, -0.6549,  ..., -0.5529, -0.5843, -0.5529],\n",
       "            [-0.6471, -0.6549, -0.6863,  ..., -0.5608, -0.5765, -0.5843]],\n",
       " \n",
       "           ...,\n",
       " \n",
       "           [[-0.4980, -0.5059, -0.4510,  ..., -0.4902, -0.5294, -0.5686],\n",
       "            [-0.5216, -0.5216, -0.4510,  ..., -0.5137, -0.5216, -0.5451],\n",
       "            [-0.5059, -0.5137, -0.4980,  ..., -0.5608, -0.5216, -0.5373],\n",
       "            ...,\n",
       "            [-0.6941, -0.6863, -0.6941,  ..., -0.5608, -0.5373, -0.5529],\n",
       "            [-0.7176, -0.6784, -0.6392,  ..., -0.5294, -0.5373, -0.5451],\n",
       "            [-0.7098, -0.6784, -0.6784,  ..., -0.5451, -0.5608, -0.5686]],\n",
       " \n",
       "           [[-0.4980, -0.5059, -0.4510,  ..., -0.4902, -0.5294, -0.5686],\n",
       "            [-0.5216, -0.5216, -0.4510,  ..., -0.5137, -0.5216, -0.5451],\n",
       "            [-0.5059, -0.5137, -0.4980,  ..., -0.5608, -0.5216, -0.5373],\n",
       "            ...,\n",
       "            [-0.6941, -0.6863, -0.6941,  ..., -0.5608, -0.5373, -0.5529],\n",
       "            [-0.7176, -0.6784, -0.6392,  ..., -0.5294, -0.5373, -0.5451],\n",
       "            [-0.7098, -0.6784, -0.6784,  ..., -0.5451, -0.5608, -0.5686]],\n",
       " \n",
       "           [[-0.4980, -0.5059, -0.4510,  ..., -0.4902, -0.5294, -0.5686],\n",
       "            [-0.5216, -0.5216, -0.4510,  ..., -0.5137, -0.5216, -0.5451],\n",
       "            [-0.5059, -0.5137, -0.4980,  ..., -0.5608, -0.5216, -0.5373],\n",
       "            ...,\n",
       "            [-0.6941, -0.6863, -0.6941,  ..., -0.5608, -0.5373, -0.5529],\n",
       "            [-0.7176, -0.6784, -0.6392,  ..., -0.5294, -0.5373, -0.5451],\n",
       "            [-0.7098, -0.6784, -0.6784,  ..., -0.5451, -0.5608, -0.5686]]],\n",
       " \n",
       " \n",
       "          [[[-0.3804, -0.3804, -0.3882,  ..., -0.6706, -0.7020, -0.7176],\n",
       "            [-0.3725, -0.3882, -0.3961,  ..., -0.6235, -0.6706, -0.7176],\n",
       "            [-0.3725, -0.3569, -0.3569,  ..., -0.6706, -0.6941, -0.6784],\n",
       "            ...,\n",
       "            [-0.7725, -0.7882, -0.7961,  ..., -0.6235, -0.6235, -0.6392],\n",
       "            [-0.8039, -0.8039, -0.7647,  ..., -0.6314, -0.6471, -0.6941],\n",
       "            [-0.7490, -0.7647, -0.7647,  ..., -0.6314, -0.6392, -0.6706]],\n",
       " \n",
       "           [[-0.4039, -0.4039, -0.4431,  ..., -0.6314, -0.6471, -0.6706],\n",
       "            [-0.3569, -0.3725, -0.4039,  ..., -0.5922, -0.6157, -0.6471],\n",
       "            [-0.3647, -0.3490, -0.3725,  ..., -0.6392, -0.6549, -0.6627],\n",
       "            ...,\n",
       "            [-0.7412, -0.7725, -0.7490,  ..., -0.6235, -0.6784, -0.6863],\n",
       "            [-0.7490, -0.7647, -0.7255,  ..., -0.6549, -0.6784, -0.7020],\n",
       "            [-0.7569, -0.7882, -0.8275,  ..., -0.7020, -0.7098, -0.6706]],\n",
       " \n",
       "           [[-0.3804, -0.3804, -0.3882,  ..., -0.6157, -0.6471, -0.6392],\n",
       "            [-0.3804, -0.3412, -0.3333,  ..., -0.6235, -0.6314, -0.6392],\n",
       "            [-0.3804, -0.3647, -0.3255,  ..., -0.6235, -0.6549, -0.7020],\n",
       "            ...,\n",
       "            [-0.8353, -0.8275, -0.8196,  ..., -0.6863, -0.7176, -0.6941],\n",
       "            [-0.7255, -0.7255, -0.7490,  ..., -0.6549, -0.6863, -0.6549],\n",
       "            [-0.7255, -0.7333, -0.7647,  ..., -0.6549, -0.6471, -0.6549]],\n",
       " \n",
       "           ...,\n",
       " \n",
       "           [[-0.3569, -0.3647, -0.3098,  ..., -0.5843, -0.6235, -0.6627],\n",
       "            [-0.3725, -0.3725, -0.2941,  ..., -0.6078, -0.6157, -0.6314],\n",
       "            [-0.3569, -0.3647, -0.3490,  ..., -0.6471, -0.6078, -0.6235],\n",
       "            ...,\n",
       "            [-0.7255, -0.7176, -0.7255,  ..., -0.6706, -0.6471, -0.6627],\n",
       "            [-0.7490, -0.7098, -0.6706,  ..., -0.6392, -0.6471, -0.6549],\n",
       "            [-0.7490, -0.7176, -0.7176,  ..., -0.6235, -0.6392, -0.6471]],\n",
       " \n",
       "           [[-0.3569, -0.3647, -0.3098,  ..., -0.5843, -0.6235, -0.6627],\n",
       "            [-0.3725, -0.3725, -0.2941,  ..., -0.6078, -0.6157, -0.6314],\n",
       "            [-0.3569, -0.3647, -0.3490,  ..., -0.6471, -0.6078, -0.6235],\n",
       "            ...,\n",
       "            [-0.7255, -0.7176, -0.7255,  ..., -0.6706, -0.6471, -0.6627],\n",
       "            [-0.7490, -0.7098, -0.6706,  ..., -0.6392, -0.6471, -0.6549],\n",
       "            [-0.7490, -0.7176, -0.7176,  ..., -0.6235, -0.6392, -0.6471]],\n",
       " \n",
       "           [[-0.3569, -0.3647, -0.3098,  ..., -0.5843, -0.6235, -0.6627],\n",
       "            [-0.3725, -0.3725, -0.2941,  ..., -0.6078, -0.6157, -0.6314],\n",
       "            [-0.3569, -0.3647, -0.3490,  ..., -0.6471, -0.6078, -0.6235],\n",
       "            ...,\n",
       "            [-0.7255, -0.7176, -0.7255,  ..., -0.6706, -0.6471, -0.6627],\n",
       "            [-0.7490, -0.7098, -0.6706,  ..., -0.6392, -0.6471, -0.6549],\n",
       "            [-0.7490, -0.7176, -0.7176,  ..., -0.6235, -0.6392, -0.6471]]]],\n",
       " \n",
       " \n",
       " \n",
       "         [[[[-0.4353, -0.4431, -0.4431,  ..., -0.5608, -0.5216, -0.4431],\n",
       "            [-0.4196, -0.4745, -0.4510,  ..., -0.5059, -0.5137, -0.4902],\n",
       "            [-0.4275, -0.4196, -0.4588,  ..., -0.4980, -0.4902, -0.4902],\n",
       "            ...,\n",
       "            [-0.6000, -0.5373, -0.5216,  ..., -0.4588, -0.4588, -0.4824],\n",
       "            [-0.6392, -0.5529, -0.5686,  ..., -0.4745, -0.4588, -0.4667],\n",
       "            [-0.6784, -0.6157, -0.6000,  ..., -0.4745, -0.4902, -0.4667]],\n",
       " \n",
       "           [[-0.4588, -0.4431, -0.4353,  ..., -0.4745, -0.4902, -0.4824],\n",
       "            [-0.4510, -0.4275, -0.4196,  ..., -0.4902, -0.4902, -0.4667],\n",
       "            [-0.4902, -0.5059, -0.4902,  ..., -0.4667, -0.4980, -0.5294],\n",
       "            ...,\n",
       "            [-0.5216, -0.4902, -0.5373,  ..., -0.5294, -0.5843, -0.5451],\n",
       "            [-0.6000, -0.6000, -0.5843,  ..., -0.5294, -0.5686, -0.5529],\n",
       "            [-0.6627, -0.6706, -0.5843,  ..., -0.5216, -0.5373, -0.5216]],\n",
       " \n",
       "           [[-0.4275, -0.4510, -0.4196,  ..., -0.4667, -0.4980, -0.4745],\n",
       "            [-0.4039, -0.4353, -0.4196,  ..., -0.4902, -0.5451, -0.5529],\n",
       "            [-0.4196, -0.4431, -0.4353,  ..., -0.4902, -0.5529, -0.5137],\n",
       "            ...,\n",
       "            [-0.5216, -0.5843, -0.5843,  ..., -0.4353, -0.4118, -0.4353],\n",
       "            [-0.5216, -0.5843, -0.5922,  ..., -0.4824, -0.4510, -0.4431],\n",
       "            [-0.6078, -0.5843, -0.5922,  ..., -0.5059, -0.4588, -0.4980]],\n",
       " \n",
       "           ...,\n",
       " \n",
       "           [[-0.4353, -0.4431, -0.4431,  ..., -0.5608, -0.5216, -0.4431],\n",
       "            [-0.4196, -0.4745, -0.4510,  ..., -0.5059, -0.5137, -0.4902],\n",
       "            [-0.4275, -0.4196, -0.4588,  ..., -0.4980, -0.4902, -0.4902],\n",
       "            ...,\n",
       "            [-0.6000, -0.5373, -0.5216,  ..., -0.4588, -0.4588, -0.4824],\n",
       "            [-0.6392, -0.5529, -0.5686,  ..., -0.4745, -0.4588, -0.4667],\n",
       "            [-0.6784, -0.6157, -0.6000,  ..., -0.4745, -0.4902, -0.4667]],\n",
       " \n",
       "           [[-0.4353, -0.4431, -0.4431,  ..., -0.5608, -0.5216, -0.4431],\n",
       "            [-0.4196, -0.4745, -0.4510,  ..., -0.5059, -0.5137, -0.4902],\n",
       "            [-0.4275, -0.4196, -0.4588,  ..., -0.4980, -0.4902, -0.4902],\n",
       "            ...,\n",
       "            [-0.6000, -0.5373, -0.5216,  ..., -0.4588, -0.4588, -0.4824],\n",
       "            [-0.6392, -0.5529, -0.5686,  ..., -0.4745, -0.4588, -0.4667],\n",
       "            [-0.6784, -0.6157, -0.6000,  ..., -0.4745, -0.4902, -0.4667]],\n",
       " \n",
       "           [[-0.4353, -0.4431, -0.4431,  ..., -0.5608, -0.5216, -0.4431],\n",
       "            [-0.4196, -0.4745, -0.4510,  ..., -0.5059, -0.5137, -0.4902],\n",
       "            [-0.4275, -0.4196, -0.4588,  ..., -0.4980, -0.4902, -0.4902],\n",
       "            ...,\n",
       "            [-0.6000, -0.5373, -0.5216,  ..., -0.4588, -0.4588, -0.4824],\n",
       "            [-0.6392, -0.5529, -0.5686,  ..., -0.4745, -0.4588, -0.4667],\n",
       "            [-0.6784, -0.6157, -0.6000,  ..., -0.4745, -0.4902, -0.4667]]],\n",
       " \n",
       " \n",
       "          [[[-0.4902, -0.4980, -0.4980,  ..., -0.5922, -0.5608, -0.4824],\n",
       "            [-0.4745, -0.5294, -0.5059,  ..., -0.5373, -0.5451, -0.5294],\n",
       "            [-0.4824, -0.4745, -0.5137,  ..., -0.5294, -0.5216, -0.5294],\n",
       "            ...,\n",
       "            [-0.4510, -0.3647, -0.3490,  ..., -0.5922, -0.5922, -0.6314],\n",
       "            [-0.5294, -0.4275, -0.3961,  ..., -0.5922, -0.5765, -0.6157],\n",
       "            [-0.6314, -0.5137, -0.4745,  ..., -0.6000, -0.6078, -0.6157]],\n",
       " \n",
       "           [[-0.4745, -0.4667, -0.4667,  ..., -0.5529, -0.5686, -0.5608],\n",
       "            [-0.4745, -0.4510, -0.4510,  ..., -0.5765, -0.5686, -0.5451],\n",
       "            [-0.5216, -0.5373, -0.5294,  ..., -0.5451, -0.5765, -0.6078],\n",
       "            ...,\n",
       "            [-0.4039, -0.3647, -0.3961,  ..., -0.6392, -0.6941, -0.6471],\n",
       "            [-0.5059, -0.4824, -0.4588,  ..., -0.6314, -0.6784, -0.6549],\n",
       "            [-0.5765, -0.5765, -0.4745,  ..., -0.6314, -0.6471, -0.6235]],\n",
       " \n",
       "           [[-0.4745, -0.4980, -0.4667,  ..., -0.4902, -0.5216, -0.4980],\n",
       "            [-0.4510, -0.4824, -0.4667,  ..., -0.5216, -0.5686, -0.5765],\n",
       "            [-0.4745, -0.4902, -0.4824,  ..., -0.5216, -0.5765, -0.5373],\n",
       "            ...,\n",
       "            [-0.3882, -0.4118, -0.4039,  ..., -0.5765, -0.5765, -0.5686],\n",
       "            [-0.4275, -0.4745, -0.4588,  ..., -0.6314, -0.6235, -0.5765],\n",
       "            [-0.5608, -0.5137, -0.5059,  ..., -0.6471, -0.6314, -0.6314]],\n",
       " \n",
       "           ...,\n",
       " \n",
       "           [[-0.4902, -0.4980, -0.4980,  ..., -0.5922, -0.5608, -0.4824],\n",
       "            [-0.4745, -0.5294, -0.5059,  ..., -0.5373, -0.5451, -0.5294],\n",
       "            [-0.4824, -0.4745, -0.5137,  ..., -0.5294, -0.5216, -0.5294],\n",
       "            ...,\n",
       "            [-0.4510, -0.3647, -0.3490,  ..., -0.5922, -0.5922, -0.6314],\n",
       "            [-0.5294, -0.4275, -0.3961,  ..., -0.5922, -0.5765, -0.6157],\n",
       "            [-0.6314, -0.5137, -0.4745,  ..., -0.6000, -0.6078, -0.6157]],\n",
       " \n",
       "           [[-0.4902, -0.4980, -0.4980,  ..., -0.5922, -0.5608, -0.4824],\n",
       "            [-0.4745, -0.5294, -0.5059,  ..., -0.5373, -0.5451, -0.5294],\n",
       "            [-0.4824, -0.4745, -0.5137,  ..., -0.5294, -0.5216, -0.5294],\n",
       "            ...,\n",
       "            [-0.4510, -0.3647, -0.3490,  ..., -0.5922, -0.5922, -0.6314],\n",
       "            [-0.5294, -0.4275, -0.3961,  ..., -0.5922, -0.5765, -0.6157],\n",
       "            [-0.6314, -0.5137, -0.4745,  ..., -0.6000, -0.6078, -0.6157]],\n",
       " \n",
       "           [[-0.4902, -0.4980, -0.4980,  ..., -0.5922, -0.5608, -0.4824],\n",
       "            [-0.4745, -0.5294, -0.5059,  ..., -0.5373, -0.5451, -0.5294],\n",
       "            [-0.4824, -0.4745, -0.5137,  ..., -0.5294, -0.5216, -0.5294],\n",
       "            ...,\n",
       "            [-0.4510, -0.3647, -0.3490,  ..., -0.5922, -0.5922, -0.6314],\n",
       "            [-0.5294, -0.4275, -0.3961,  ..., -0.5922, -0.5765, -0.6157],\n",
       "            [-0.6314, -0.5137, -0.4745,  ..., -0.6000, -0.6078, -0.6157]]],\n",
       " \n",
       " \n",
       "          [[[-0.6157, -0.6235, -0.6235,  ..., -0.7098, -0.6706, -0.5765],\n",
       "            [-0.6000, -0.6549, -0.6314,  ..., -0.6549, -0.6627, -0.6235],\n",
       "            [-0.6078, -0.6000, -0.6392,  ..., -0.6471, -0.6392, -0.6235],\n",
       "            ...,\n",
       "            [-0.3569, -0.2627, -0.2314,  ..., -0.6706, -0.6706, -0.7020],\n",
       "            [-0.4588, -0.3412, -0.3176,  ..., -0.6706, -0.6549, -0.6863],\n",
       "            [-0.5608, -0.4353, -0.3882,  ..., -0.6784, -0.6784, -0.6863]],\n",
       " \n",
       "           [[-0.6157, -0.6000, -0.5843,  ..., -0.6627, -0.6784, -0.6706],\n",
       "            [-0.6157, -0.5843, -0.5686,  ..., -0.6784, -0.6863, -0.6549],\n",
       "            [-0.6627, -0.6706, -0.6471,  ..., -0.6549, -0.6863, -0.7176],\n",
       "            ...,\n",
       "            [-0.3176, -0.2392, -0.2471,  ..., -0.7412, -0.7961, -0.7647],\n",
       "            [-0.4275, -0.3961, -0.3490,  ..., -0.7333, -0.7804, -0.7725],\n",
       "            [-0.5216, -0.4902, -0.3882,  ..., -0.7333, -0.7490, -0.7412]],\n",
       " \n",
       "           [[-0.6235, -0.6471, -0.6157,  ..., -0.6235, -0.6549, -0.6314],\n",
       "            [-0.6000, -0.6314, -0.6157,  ..., -0.6471, -0.7020, -0.7098],\n",
       "            [-0.6235, -0.6392, -0.6314,  ..., -0.6549, -0.7098, -0.6784],\n",
       "            ...,\n",
       "            [-0.2863, -0.3098, -0.2863,  ..., -0.6784, -0.6706, -0.6863],\n",
       "            [-0.3412, -0.3804, -0.3647,  ..., -0.7098, -0.6941, -0.6941],\n",
       "            [-0.4902, -0.4353, -0.4196,  ..., -0.7333, -0.7020, -0.7490]],\n",
       " \n",
       "           ...,\n",
       " \n",
       "           [[-0.6157, -0.6235, -0.6235,  ..., -0.7098, -0.6706, -0.5765],\n",
       "            [-0.6000, -0.6549, -0.6314,  ..., -0.6549, -0.6627, -0.6235],\n",
       "            [-0.6078, -0.6000, -0.6392,  ..., -0.6471, -0.6392, -0.6235],\n",
       "            ...,\n",
       "            [-0.3569, -0.2627, -0.2314,  ..., -0.6706, -0.6706, -0.7020],\n",
       "            [-0.4588, -0.3412, -0.3176,  ..., -0.6706, -0.6549, -0.6863],\n",
       "            [-0.5608, -0.4353, -0.3882,  ..., -0.6784, -0.6784, -0.6863]],\n",
       " \n",
       "           [[-0.6157, -0.6235, -0.6235,  ..., -0.7098, -0.6706, -0.5765],\n",
       "            [-0.6000, -0.6549, -0.6314,  ..., -0.6549, -0.6627, -0.6235],\n",
       "            [-0.6078, -0.6000, -0.6392,  ..., -0.6471, -0.6392, -0.6235],\n",
       "            ...,\n",
       "            [-0.3569, -0.2627, -0.2314,  ..., -0.6706, -0.6706, -0.7020],\n",
       "            [-0.4588, -0.3412, -0.3176,  ..., -0.6706, -0.6549, -0.6863],\n",
       "            [-0.5608, -0.4353, -0.3882,  ..., -0.6784, -0.6784, -0.6863]],\n",
       " \n",
       "           [[-0.6157, -0.6235, -0.6235,  ..., -0.7098, -0.6706, -0.5765],\n",
       "            [-0.6000, -0.6549, -0.6314,  ..., -0.6549, -0.6627, -0.6235],\n",
       "            [-0.6078, -0.6000, -0.6392,  ..., -0.6471, -0.6392, -0.6235],\n",
       "            ...,\n",
       "            [-0.3569, -0.2627, -0.2314,  ..., -0.6706, -0.6706, -0.7020],\n",
       "            [-0.4588, -0.3412, -0.3176,  ..., -0.6706, -0.6549, -0.6863],\n",
       "            [-0.5608, -0.4353, -0.3882,  ..., -0.6784, -0.6784, -0.6863]]]],\n",
       " \n",
       " \n",
       " \n",
       "         [[[[-0.4353, -0.4980, -0.4431,  ..., -0.5216, -0.5529, -0.5059],\n",
       "            [-0.4275, -0.4039, -0.3804,  ..., -0.5059, -0.4980, -0.4980],\n",
       "            [-0.4039, -0.4196, -0.4118,  ..., -0.4902, -0.4902, -0.5294],\n",
       "            ...,\n",
       "            [-0.4196, -0.3882, -0.3725,  ..., -0.5529, -0.6314, -0.6471],\n",
       "            [-0.4353, -0.3961, -0.3961,  ..., -0.6078, -0.5843, -0.5765],\n",
       "            [-0.4431, -0.4039, -0.4118,  ..., -0.5843, -0.5922, -0.6000]],\n",
       " \n",
       "           [[-0.4275, -0.4039, -0.4196,  ..., -0.5608, -0.5451, -0.5373],\n",
       "            [-0.4431, -0.4275, -0.4353,  ..., -0.4980, -0.5137, -0.4980],\n",
       "            [-0.4510, -0.4431, -0.4431,  ..., -0.5137, -0.5608, -0.5922],\n",
       "            ...,\n",
       "            [-0.4510, -0.4824, -0.4745,  ..., -0.5765, -0.5137, -0.5137],\n",
       "            [-0.4353, -0.4588, -0.4667,  ..., -0.6392, -0.6235, -0.5922],\n",
       "            [-0.4039, -0.4118, -0.4431,  ..., -0.5922, -0.5765, -0.6157]],\n",
       " \n",
       "           [[-0.4039, -0.3961, -0.4118,  ..., -0.5843, -0.5373, -0.5373],\n",
       "            [-0.4118, -0.4275, -0.4275,  ..., -0.6235, -0.5686, -0.5294],\n",
       "            [-0.4275, -0.4431, -0.4275,  ..., -0.5765, -0.5843, -0.5373],\n",
       "            ...,\n",
       "            [-0.3961, -0.4196, -0.3882,  ..., -0.5922, -0.5922, -0.6157],\n",
       "            [-0.4431, -0.4275, -0.4118,  ..., -0.5608, -0.5765, -0.5922],\n",
       "            [-0.4118, -0.4039, -0.4353,  ..., -0.5373, -0.5843, -0.6000]],\n",
       " \n",
       "           ...,\n",
       " \n",
       "           [[-0.4353, -0.4980, -0.4431,  ..., -0.5216, -0.5529, -0.5059],\n",
       "            [-0.4275, -0.4039, -0.3804,  ..., -0.5059, -0.4980, -0.4980],\n",
       "            [-0.4039, -0.4196, -0.4118,  ..., -0.4902, -0.4902, -0.5294],\n",
       "            ...,\n",
       "            [-0.4196, -0.3882, -0.3725,  ..., -0.5529, -0.6314, -0.6471],\n",
       "            [-0.4353, -0.3961, -0.3961,  ..., -0.6078, -0.5843, -0.5765],\n",
       "            [-0.4431, -0.4039, -0.4118,  ..., -0.5843, -0.5922, -0.6000]],\n",
       " \n",
       "           [[-0.4353, -0.4980, -0.4431,  ..., -0.5216, -0.5529, -0.5059],\n",
       "            [-0.4275, -0.4039, -0.3804,  ..., -0.5059, -0.4980, -0.4980],\n",
       "            [-0.4039, -0.4196, -0.4118,  ..., -0.4902, -0.4902, -0.5294],\n",
       "            ...,\n",
       "            [-0.4196, -0.3882, -0.3725,  ..., -0.5529, -0.6314, -0.6471],\n",
       "            [-0.4353, -0.3961, -0.3961,  ..., -0.6078, -0.5843, -0.5765],\n",
       "            [-0.4431, -0.4039, -0.4118,  ..., -0.5843, -0.5922, -0.6000]],\n",
       " \n",
       "           [[-0.4353, -0.4980, -0.4431,  ..., -0.5216, -0.5529, -0.5059],\n",
       "            [-0.4275, -0.4039, -0.3804,  ..., -0.5059, -0.4980, -0.4980],\n",
       "            [-0.4039, -0.4196, -0.4118,  ..., -0.4902, -0.4902, -0.5294],\n",
       "            ...,\n",
       "            [-0.4196, -0.3882, -0.3725,  ..., -0.5529, -0.6314, -0.6471],\n",
       "            [-0.4353, -0.3961, -0.3961,  ..., -0.6078, -0.5843, -0.5765],\n",
       "            [-0.4431, -0.4039, -0.4118,  ..., -0.5843, -0.5922, -0.6000]]],\n",
       " \n",
       " \n",
       "          [[[-0.4588, -0.5137, -0.4588,  ..., -0.6078, -0.6392, -0.5922],\n",
       "            [-0.4431, -0.4196, -0.3961,  ..., -0.5922, -0.6000, -0.5843],\n",
       "            [-0.4196, -0.4353, -0.4275,  ..., -0.5843, -0.6000, -0.6392],\n",
       "            ...,\n",
       "            [-0.4980, -0.4667, -0.4510,  ..., -0.6549, -0.7176, -0.7333],\n",
       "            [-0.5137, -0.4745, -0.4745,  ..., -0.7020, -0.6627, -0.6627],\n",
       "            [-0.5216, -0.4824, -0.4980,  ..., -0.6863, -0.6784, -0.6863]],\n",
       " \n",
       "           [[-0.4275, -0.4039, -0.4196,  ..., -0.5922, -0.5765, -0.5686],\n",
       "            [-0.4431, -0.4275, -0.4353,  ..., -0.5294, -0.5373, -0.5294],\n",
       "            [-0.4510, -0.4431, -0.4431,  ..., -0.5451, -0.5922, -0.6235],\n",
       "            ...,\n",
       "            [-0.5373, -0.5686, -0.5608,  ..., -0.6706, -0.6157, -0.6157],\n",
       "            [-0.5216, -0.5451, -0.5529,  ..., -0.7333, -0.7176, -0.6863],\n",
       "            [-0.4902, -0.4980, -0.5294,  ..., -0.6863, -0.6706, -0.7098]],\n",
       " \n",
       "           [[-0.4118, -0.4039, -0.4196,  ..., -0.6078, -0.5608, -0.5608],\n",
       "            [-0.4196, -0.4353, -0.4353,  ..., -0.6471, -0.5922, -0.5529],\n",
       "            [-0.4353, -0.4510, -0.4353,  ..., -0.6000, -0.6078, -0.5608],\n",
       "            ...,\n",
       "            [-0.4980, -0.5373, -0.5137,  ..., -0.6706, -0.7020, -0.7255],\n",
       "            [-0.5451, -0.5451, -0.5373,  ..., -0.6392, -0.6706, -0.6863],\n",
       "            [-0.5216, -0.5216, -0.5686,  ..., -0.6235, -0.6784, -0.6941]],\n",
       " \n",
       "           ...,\n",
       " \n",
       "           [[-0.4588, -0.5137, -0.4588,  ..., -0.6078, -0.6392, -0.5922],\n",
       "            [-0.4431, -0.4196, -0.3961,  ..., -0.5922, -0.6000, -0.5843],\n",
       "            [-0.4196, -0.4353, -0.4275,  ..., -0.5843, -0.6000, -0.6392],\n",
       "            ...,\n",
       "            [-0.4980, -0.4667, -0.4510,  ..., -0.6549, -0.7176, -0.7333],\n",
       "            [-0.5137, -0.4745, -0.4745,  ..., -0.7020, -0.6627, -0.6627],\n",
       "            [-0.5216, -0.4824, -0.4980,  ..., -0.6863, -0.6784, -0.6863]],\n",
       " \n",
       "           [[-0.4588, -0.5137, -0.4588,  ..., -0.6078, -0.6392, -0.5922],\n",
       "            [-0.4431, -0.4196, -0.3961,  ..., -0.5922, -0.6000, -0.5843],\n",
       "            [-0.4196, -0.4353, -0.4275,  ..., -0.5843, -0.6000, -0.6392],\n",
       "            ...,\n",
       "            [-0.4980, -0.4667, -0.4510,  ..., -0.6549, -0.7176, -0.7333],\n",
       "            [-0.5137, -0.4745, -0.4745,  ..., -0.7020, -0.6627, -0.6627],\n",
       "            [-0.5216, -0.4824, -0.4980,  ..., -0.6863, -0.6784, -0.6863]],\n",
       " \n",
       "           [[-0.4588, -0.5137, -0.4588,  ..., -0.6078, -0.6392, -0.5922],\n",
       "            [-0.4431, -0.4196, -0.3961,  ..., -0.5922, -0.6000, -0.5843],\n",
       "            [-0.4196, -0.4353, -0.4275,  ..., -0.5843, -0.6000, -0.6392],\n",
       "            ...,\n",
       "            [-0.4980, -0.4667, -0.4510,  ..., -0.6549, -0.7176, -0.7333],\n",
       "            [-0.5137, -0.4745, -0.4745,  ..., -0.7020, -0.6627, -0.6627],\n",
       "            [-0.5216, -0.4824, -0.4980,  ..., -0.6863, -0.6784, -0.6863]]],\n",
       " \n",
       " \n",
       "          [[[-0.5686, -0.6314, -0.5765,  ..., -0.6941, -0.7176, -0.6706],\n",
       "            [-0.5608, -0.5373, -0.5137,  ..., -0.6784, -0.6784, -0.6706],\n",
       "            [-0.5373, -0.5529, -0.5451,  ..., -0.6627, -0.6627, -0.7098],\n",
       "            ...,\n",
       "            [-0.6078, -0.5765, -0.5608,  ..., -0.7333, -0.8039, -0.8196],\n",
       "            [-0.6235, -0.5843, -0.5843,  ..., -0.7882, -0.7569, -0.7490],\n",
       "            [-0.6314, -0.5922, -0.6078,  ..., -0.7647, -0.7647, -0.7725]],\n",
       " \n",
       "           [[-0.5294, -0.5059, -0.5216,  ..., -0.7098, -0.6941, -0.6863],\n",
       "            [-0.5451, -0.5294, -0.5373,  ..., -0.6471, -0.6549, -0.6392],\n",
       "            [-0.5529, -0.5451, -0.5451,  ..., -0.6627, -0.7098, -0.7412],\n",
       "            ...,\n",
       "            [-0.6627, -0.6941, -0.6863,  ..., -0.7804, -0.7020, -0.7020],\n",
       "            [-0.6471, -0.6706, -0.6706,  ..., -0.8431, -0.8275, -0.7961],\n",
       "            [-0.6157, -0.6235, -0.6549,  ..., -0.7961, -0.7804, -0.8196]],\n",
       " \n",
       "           [[-0.5451, -0.5373, -0.5529,  ..., -0.7412, -0.6941, -0.6941],\n",
       "            [-0.5529, -0.5686, -0.5686,  ..., -0.7804, -0.7333, -0.6784],\n",
       "            [-0.5686, -0.5843, -0.5686,  ..., -0.7333, -0.7412, -0.6941],\n",
       "            ...,\n",
       "            [-0.6235, -0.6549, -0.6314,  ..., -0.7804, -0.8039, -0.8275],\n",
       "            [-0.6627, -0.6627, -0.6549,  ..., -0.7490, -0.7804, -0.7961],\n",
       "            [-0.6392, -0.6392, -0.6784,  ..., -0.7333, -0.7882, -0.8039]],\n",
       " \n",
       "           ...,\n",
       " \n",
       "           [[-0.5686, -0.6314, -0.5765,  ..., -0.6941, -0.7176, -0.6706],\n",
       "            [-0.5608, -0.5373, -0.5137,  ..., -0.6784, -0.6784, -0.6706],\n",
       "            [-0.5373, -0.5529, -0.5451,  ..., -0.6627, -0.6627, -0.7098],\n",
       "            ...,\n",
       "            [-0.6078, -0.5765, -0.5608,  ..., -0.7333, -0.8039, -0.8196],\n",
       "            [-0.6235, -0.5843, -0.5843,  ..., -0.7882, -0.7569, -0.7490],\n",
       "            [-0.6314, -0.5922, -0.6078,  ..., -0.7647, -0.7647, -0.7725]],\n",
       " \n",
       "           [[-0.5686, -0.6314, -0.5765,  ..., -0.6941, -0.7176, -0.6706],\n",
       "            [-0.5608, -0.5373, -0.5137,  ..., -0.6784, -0.6784, -0.6706],\n",
       "            [-0.5373, -0.5529, -0.5451,  ..., -0.6627, -0.6627, -0.7098],\n",
       "            ...,\n",
       "            [-0.6078, -0.5765, -0.5608,  ..., -0.7333, -0.8039, -0.8196],\n",
       "            [-0.6235, -0.5843, -0.5843,  ..., -0.7882, -0.7569, -0.7490],\n",
       "            [-0.6314, -0.5922, -0.6078,  ..., -0.7647, -0.7647, -0.7725]],\n",
       " \n",
       "           [[-0.5686, -0.6314, -0.5765,  ..., -0.6941, -0.7176, -0.6706],\n",
       "            [-0.5608, -0.5373, -0.5137,  ..., -0.6784, -0.6784, -0.6706],\n",
       "            [-0.5373, -0.5529, -0.5451,  ..., -0.6627, -0.6627, -0.7098],\n",
       "            ...,\n",
       "            [-0.6078, -0.5765, -0.5608,  ..., -0.7333, -0.8039, -0.8196],\n",
       "            [-0.6235, -0.5843, -0.5843,  ..., -0.7882, -0.7569, -0.7490],\n",
       "            [-0.6314, -0.5922, -0.6078,  ..., -0.7647, -0.7647, -0.7725]]]]]),\n",
       " tensor([2, 5, 1, 4])]"
      ]
     },
     "execution_count": 9,
     "metadata": {},
     "output_type": "execute_result"
    }
   ],
   "source": [
    "next(iter(train_loader))"
   ]
  },
  {
   "cell_type": "code",
   "execution_count": 10,
   "metadata": {},
   "outputs": [],
   "source": [
    "class Fushion(nn.Module):\n",
    "\n",
    "    def __init__(self):\n",
    "        super(Fushion, self).__init__()\n",
    "\n",
    "        self.conv1 = nn.Conv3d(3, 6, kernel_size=(1, 5, 5))\n",
    "        self.pool1 = nn.AvgPool3d(kernel_size=(1, 4, 4), stride=(1, 2, 2))\n",
    "        self.normal1 = nn.BatchNorm3d(6)\n",
    "\n",
    "        self.conv2 = nn.Conv3d(6, 9, kernel_size=(1, 5, 5))\n",
    "        self.pool2 = nn.AvgPool3d(kernel_size=(1, 4, 4), stride=(1, 2, 2))\n",
    "        self.normal2 = nn.BatchNorm3d(9)\n",
    "\n",
    "        self.lstm1 = nn.LSTM(input_size = 23409, hidden_size = 2048 , num_layers = 1, batch_first = True)\n",
    "\n",
    "        self.conv3 = nn.Conv3d(3, 16, kernel_size = (2, 5, 5))\n",
    "        self.pool3 = nn.AvgPool3d(kernel_size=(2, 4, 4), stride=(1, 2, 2))\n",
    "        self.normal3 = nn.BatchNorm3d(16)\n",
    "\n",
    "        self.conv4 = nn.Conv3d(16, 32, kernel_size=(2, 5, 5))\n",
    "        self.pool4 = nn.AvgPool3d(kernel_size=(2, 4, 4), stride=(1, 2, 2))\n",
    "        self.normal4 = nn.BatchNorm3d(32)\n",
    "\n",
    "        self.global_pool = nn.AdaptiveAvgPool3d((4, 4, 4))\n",
    "\n",
    "        self.dense1 = nn.Linear(2048, 1024)\n",
    "        self.dense2 = nn.Linear(1024, 8)\n",
    "\n",
    "        self.norm1 = nn.BatchNorm1d(2048)\n",
    "        self.norm2 = nn.BatchNorm1d(1024)\n",
    "\n",
    "    def forward(self, x1, x2):\n",
    "\n",
    "        x1 = self.conv1(x1)\n",
    "        x1 = F.relu(x1)\n",
    "        x1 = self.pool1(x1)\n",
    "        x1 = self.normal1(x1)\n",
    "\n",
    "        x1 = self.conv2(x1)\n",
    "        x1 = F.relu(x1)\n",
    "        x1 = self.pool2(x1)\n",
    "        x1 = self.normal2(x1)\n",
    "\n",
    "        x1 = torch.permute(x1, (0, 2, 1, 3, 4))\n",
    "        \n",
    "\n",
    "        x1 = x1.reshape(x1.shape[0], x1.shape[1], -1)\n",
    "        x1 = self.lstm1(x1)[0][:, -1]\n",
    "\n",
    "        x2 = self.conv3(x2)\n",
    "        x2 = F.relu(x2)\n",
    "        x2 = self.pool3(x2)\n",
    "        x2 = self.normal3(x2)\n",
    "\n",
    "        x2 = self.conv4(x2)\n",
    "        x2 = F.relu(x2)\n",
    "        x2 = self.pool4(x2)\n",
    "        x2 = self.normal4(x2)\n",
    "        x2 = self.global_pool(x2)\n",
    "        x2 = nn.Flatten()(x2)\n",
    "        # print(x2.shape)\n",
    "\n",
    "        x = torch.add(x1, x2)\n",
    "        x = self.norm1(x)\n",
    "\n",
    "        x = self.dense1(x)\n",
    "        x = F.relu(x)\n",
    "        x = self.norm2(x)\n",
    "        x = self.dense2(x)\n",
    "\n",
    "        return F.softmax(x, dim = 1)"
   ]
  },
  {
   "cell_type": "code",
   "execution_count": 10,
   "metadata": {},
   "outputs": [],
   "source": [
    "class CNN_3D(nn.Module):\n",
    "\n",
    "    def __init__(self):\n",
    "        super(CNN_3D, self).__init__()\n",
    "\n",
    "        self.conv1 = nn.Conv3d(3, 6, kernel_size = (2, 5, 5))\n",
    "        self.pool1 = nn.AvgPool3d(kernel_size=(2, 4, 4), stride=(1, 2, 2))\n",
    "        self.normal1 = nn.BatchNorm3d(6)\n",
    "\n",
    "        self.conv2 = nn.Conv3d(6, 12, kernel_size=(2, 5, 5))\n",
    "        self.pool2 = nn.AvgPool3d(kernel_size=(2, 4, 4), stride=(1, 2, 2))\n",
    "        self.normal2 = nn.BatchNorm3d(12)\n",
    "\n",
    "        self.global_pool = nn.AdaptiveAvgPool3d((1, 1, 1))\n",
    "\n",
    "        self.dense1 = nn.Linear(12, 8)\n",
    "\n",
    "    def forward(self, x):\n",
    "\n",
    "        x = self.conv1(x)\n",
    "        x = F.relu(x)\n",
    "        x = self.pool1(x)\n",
    "        x = self.normal1(x)\n",
    "\n",
    "        x = self.conv2(x)\n",
    "        x = F.relu(x)\n",
    "        x = self.pool2(x)\n",
    "        x = self.normal2(x)\n",
    "\n",
    "        x = self.global_pool(x)\n",
    "\n",
    "        x = x.reshape(x.shape[0], -1)\n",
    "\n",
    "        x = self.dense1(x)\n",
    "        x = F.relu(x)\n",
    "\n",
    "        x = F.softmax(x, dim = 1)\n",
    "\n",
    "        return x\n",
    "\n",
    "        "
   ]
  },
  {
   "cell_type": "code",
   "execution_count": 11,
   "metadata": {},
   "outputs": [],
   "source": [
    "class CNN_LSTM(nn.Module):\n",
    "\n",
    "    def __init__(self):\n",
    "        super(CNN_LSTM, self).__init__()\n",
    "\n",
    "        self.conv1 = nn.Conv3d(3, 6, kernel_size=(1, 5, 5))\n",
    "        self.pool1 = nn.AvgPool3d(kernel_size=(1, 4, 4), stride=(1, 2, 2))\n",
    "        self.normal1 = nn.BatchNorm3d(6)\n",
    "\n",
    "        self.conv2 = nn.Conv3d(6, 9, kernel_size=(1, 5, 5))\n",
    "        self.pool2 = nn.AvgPool3d(kernel_size=(1, 4, 4), stride=(1, 2, 2))\n",
    "        self.normal2 = nn.BatchNorm3d(9)\n",
    "\n",
    "        self.lstm1 = nn.LSTM(input_size = 23409, hidden_size = 2056 , num_layers = 1, batch_first = True)\n",
    "\n",
    "        self.dense1 = nn.Linear(2056, 512)\n",
    "        self.dense2 = nn.Linear(512, 8)\n",
    "\n",
    "        self.dropout = nn.Dropout(0.3)\n",
    "\n",
    "    \n",
    "    def forward(self, x):\n",
    "        \n",
    "        x = self.conv1(x)\n",
    "        x = F.relu(x)\n",
    "        x = self.pool1(x)\n",
    "        x = self.normal1(x)\n",
    "\n",
    "        x = self.conv2(x)\n",
    "        x = F.relu(x)\n",
    "        x = self.pool2(x)\n",
    "        x = self.normal2(x)\n",
    "        \n",
    "        x = torch.permute(x, (0, 2, 1, 3, 4))\n",
    "        \n",
    "\n",
    "        x = x.reshape(x.shape[0], x.shape[1], -1)\n",
    "        x = self.lstm1(x)[0][:, -1]\n",
    "\n",
    "        x = self.dense1(x)\n",
    "        x = F.relu(x)\n",
    "        x = self.dropout(x)\n",
    "        x = self.dense2(x)\n",
    "        x = F.softmax(x, dim = 1)\n",
    "\n",
    "        return x"
   ]
  },
  {
   "cell_type": "code",
   "execution_count": 11,
   "metadata": {},
   "outputs": [],
   "source": [
    "model = Fushion().to(device)"
   ]
  },
  {
   "cell_type": "code",
   "execution_count": 12,
   "metadata": {},
   "outputs": [],
   "source": [
    "lr = 0.001\n",
    "loss_fn = nn.CrossEntropyLoss()\n",
    "optimizer = torch.optim.Adam(model.parameters(), lr = lr)"
   ]
  },
  {
   "cell_type": "code",
   "execution_count": 13,
   "metadata": {},
   "outputs": [
    {
     "data": {
      "text/plain": [
       "66"
      ]
     },
     "execution_count": 13,
     "metadata": {},
     "output_type": "execute_result"
    }
   ],
   "source": [
    "len(train_loader)"
   ]
  },
  {
   "cell_type": "code",
   "execution_count": 14,
   "metadata": {},
   "outputs": [
    {
     "name": "stdout",
     "output_type": "stream",
     "text": [
      "step: 10, loss: 3.0030965566635133, accuracy: 0.22727272727272727\n",
      "step: 20, loss: 2.966126501560211, accuracy: 0.27380952380952384\n",
      "step: 30, loss: 2.9581398089726765, accuracy: 0.28225806451612906\n",
      "step: 40, loss: 2.9665326923131943, accuracy: 0.2682926829268293\n",
      "step: 50, loss: 2.9516014981269834, accuracy: 0.28921568627450983\n",
      "step: 60, loss: 2.9619110584259034, accuracy: 0.2786885245901639\n",
      "Training loss: 1.9564012144551133, Training accuracy: 0.2889733840304182, Validation loss: 1.9187605871873743, Validation accuracy: 0.3181818181818182\n",
      "step: 10, loss: 2.809254157543182, accuracy: 0.45454545454545453\n",
      "step: 20, loss: 2.7512705981731416, accuracy: 0.5119047619047619\n",
      "step: 30, loss: 2.741425931453705, accuracy: 0.532258064516129\n",
      "step: 40, loss: 2.745414897799492, accuracy: 0.524390243902439\n",
      "step: 50, loss: 2.7655952620506286, accuracy: 0.5049019607843137\n",
      "step: 60, loss: 2.783565910657247, accuracy: 0.48770491803278687\n",
      "Training loss: 1.776995640812498, Training accuracy: 0.5019011406844106, Validation loss: 1.8276369641808903, Validation accuracy: 0.45454545454545453\n",
      "step: 10, loss: 2.605332601070404, accuracy: 0.6363636363636364\n",
      "step: 20, loss: 2.653397858142853, accuracy: 0.5952380952380952\n",
      "step: 30, loss: 2.6571003516515095, accuracy: 0.5967741935483871\n",
      "step: 40, loss: 2.66658673286438, accuracy: 0.5975609756097561\n",
      "step: 50, loss: 2.68033007144928, accuracy: 0.5882352941176471\n",
      "step: 60, loss: 2.6920894662539165, accuracy: 0.5778688524590164\n",
      "Training loss: 1.6896915471915044, Training accuracy: 0.5893536121673004, Validation loss: 1.7545427154092228, Validation accuracy: 0.5303030303030303\n",
      "step: 10, loss: 2.6623531699180605, accuracy: 0.5681818181818182\n",
      "step: 20, loss: 2.602095603942871, accuracy: 0.6547619047619048\n",
      "step: 30, loss: 2.621918427944183, accuracy: 0.6370967741935484\n",
      "step: 40, loss: 2.627885264158249, accuracy: 0.6280487804878049\n",
      "step: 50, loss: 2.6212507605552675, accuracy: 0.6421568627450981\n",
      "step: 60, loss: 2.6425742069880167, accuracy: 0.6229508196721312\n",
      "Training loss: 1.6440362045259187, Training accuracy: 0.623574144486692, Validation loss: 1.7001826202168184, Validation accuracy: 0.5909090909090909\n",
      "step: 10, loss: 2.5832885026931764, accuracy: 0.6818181818181818\n",
      "step: 20, loss: 2.5759672224521637, accuracy: 0.6904761904761905\n",
      "step: 30, loss: 2.5822829763094584, accuracy: 0.7096774193548387\n",
      "step: 40, loss: 2.59006487429142, accuracy: 0.7012195121951219\n",
      "step: 50, loss: 2.6039179491996762, accuracy: 0.6813725490196079\n",
      "step: 60, loss: 2.6301260987917585, accuracy: 0.6516393442622951\n",
      "Training loss: 1.6263198653856914, Training accuracy: 0.6653992395437263, Validation loss: 1.7674625340630026, Validation accuracy: 0.5151515151515151\n",
      "step: 10, loss: 2.5289153814315797, accuracy: 0.6818181818181818\n",
      "step: 20, loss: 2.5834063589572906, accuracy: 0.6547619047619048\n",
      "step: 30, loss: 2.5935230056444807, accuracy: 0.6532258064516129\n",
      "step: 40, loss: 2.592706173658371, accuracy: 0.6707317073170732\n",
      "step: 50, loss: 2.5882625269889834, accuracy: 0.6813725490196079\n",
      "step: 60, loss: 2.6088185449441275, accuracy: 0.6598360655737705\n",
      "Training loss: 1.6101515834981746, Training accuracy: 0.6692015209125475, Validation loss: 1.7371493227341597, Validation accuracy: 0.5606060606060606\n",
      "step: 10, loss: 2.562274467945099, accuracy: 0.6590909090909091\n",
      "step: 20, loss: 2.5673270165920257, accuracy: 0.6904761904761905\n",
      "step: 30, loss: 2.5692177335421245, accuracy: 0.6935483870967742\n",
      "step: 40, loss: 2.5791520327329636, accuracy: 0.6890243902439024\n",
      "step: 50, loss: 2.5748607087135316, accuracy: 0.6911764705882353\n",
      "step: 60, loss: 2.602679924170176, accuracy: 0.6680327868852459\n",
      "Training loss: 1.5952606165047847, Training accuracy: 0.688212927756654, Validation loss: 1.749694403480081, Validation accuracy: 0.5303030303030303\n",
      "step: 10, loss: 2.502235472202301, accuracy: 0.6818181818181818\n",
      "step: 20, loss: 2.5534617960453034, accuracy: 0.6666666666666666\n",
      "step: 30, loss: 2.5684890747070312, accuracy: 0.6693548387096774\n",
      "step: 40, loss: 2.5759926706552507, accuracy: 0.676829268292683\n",
      "step: 50, loss: 2.571648709774017, accuracy: 0.6813725490196079\n",
      "step: 60, loss: 2.570800278584162, accuracy: 0.6926229508196722\n",
      "Training loss: 1.5670927076628713, Training accuracy: 0.7072243346007605, Validation loss: 1.7665226529626286, Validation accuracy: 0.48484848484848486\n"
     ]
    }
   ],
   "source": [
    "train_loss = []\n",
    "val_loss = []\n",
    "train_accuracy = []\n",
    "val_accuracy = []\n",
    "\n",
    "epochs = 8\n",
    "\n",
    "for ep in range(epochs):\n",
    "\n",
    "  batch_train_loss = 0\n",
    "  num_train_batches = len(train_loader)\n",
    "  train_samples = 0\n",
    "  train_acc = 0\n",
    "  total_train_loss = 0\n",
    "\n",
    "  for step, (vids, labels) in enumerate(train_loader):\n",
    "\n",
    "    if step != 0 and step % 10 == 0:\n",
    "      print('step: {}, loss: {}, accuracy: {}'.format(step, batch_train_loss/step+1, train_acc/((step + 1)*batch_size)))\n",
    "\n",
    "    vids = vids.to(device)\n",
    "    \n",
    "    labels = labels.to(device)\n",
    "    labels = labels.reshape((labels.shape[0]))\n",
    "\n",
    "    train_samples += labels.size(0)\n",
    "    # print(vids.shape)\n",
    "    model_output = model(vids, vids)\n",
    "    # print(model_output.shape)\n",
    "\n",
    "    optimizer.zero_grad()\n",
    "    loss = loss_fn(model_output, labels)\n",
    "    loss.backward()\n",
    "    optimizer.step()\n",
    "\n",
    "    cur_loss = loss.item()\n",
    "    batch_train_loss += cur_loss\n",
    "\n",
    "    _, predicted_labels = torch.max(model_output, 1)\n",
    "\n",
    "    labels = labels.float()\n",
    "\n",
    "    train_acc += torch.eq(labels, predicted_labels).sum().item()\n",
    "  \n",
    "  total_train_loss = batch_train_loss/ num_train_batches\n",
    "  train_acc /= train_samples\n",
    "\n",
    "  with torch.no_grad():\n",
    "\n",
    "    batch_val_loss = 0\n",
    "    num_val_batches = len(val_loader)\n",
    "    val_samples = 0\n",
    "    val_acc = 0\n",
    "    total_val_loss = 0\n",
    "\n",
    "    for step, (vids, labels) in enumerate(val_loader):\n",
    "\n",
    "      vids = vids.to(device)\n",
    "      labels = labels.to(device)\n",
    "      \n",
    "      labels = labels.reshape((labels.shape[0]))\n",
    "      val_samples += labels.size(0)\n",
    "\n",
    "      model_output = model(vids, vids)\n",
    "\n",
    "      loss = loss_fn(model_output, labels)\n",
    "\n",
    "      cur_loss = loss.item()\n",
    "\n",
    "      batch_val_loss += cur_loss\n",
    "\n",
    "      _, predicted_labels = torch.max(model_output, 1)\n",
    "\n",
    "      labels.float()\n",
    "\n",
    "      val_acc += torch.eq(labels, predicted_labels).sum().item()\n",
    "    \n",
    "    total_val_loss = batch_val_loss/ num_val_batches\n",
    "    val_acc /= val_samples\n",
    "\n",
    "  print('Training loss: {}, Training accuracy: {}, Validation loss: {}, Validation accuracy: {}'.format(total_train_loss, train_acc, total_val_loss, val_acc))\n",
    "  train_loss.append(total_train_loss)\n",
    "  val_loss.append(total_val_loss)\n",
    "  train_accuracy.append(train_acc)\n",
    "  val_accuracy.append(val_acc)"
   ]
  },
  {
   "cell_type": "code",
   "execution_count": 15,
   "metadata": {},
   "outputs": [],
   "source": [
    "torch.save(model, '/home/karan/temp/saved_models/model3.h5')"
   ]
  },
  {
   "cell_type": "code",
   "execution_count": 16,
   "metadata": {},
   "outputs": [],
   "source": [
    "import matplotlib.pyplot as plt"
   ]
  },
  {
   "cell_type": "code",
   "execution_count": 17,
   "metadata": {},
   "outputs": [],
   "source": [
    "def plot_loss(train_loss, val_loss):\n",
    "\n",
    "  plt.plot(train_loss, label = 'Training loss')\n",
    "  plt.plot(val_loss, label = 'Validation loss')\n",
    "  plt.xlabel('Epochs')\n",
    "  plt.ylabel('Loss')\n",
    "  plt.title('Training and Validation Loss')\n",
    "  plt.legend(frameon = False)"
   ]
  },
  {
   "cell_type": "code",
   "execution_count": 18,
   "metadata": {},
   "outputs": [],
   "source": [
    "def plot_acc(train_acc, val_acc):\n",
    "\n",
    "  plt.plot(train_acc, label = 'Training accuracy')\n",
    "  plt.plot(val_acc, label = 'Validation accuracy')\n",
    "  plt.xlabel('Epochs')\n",
    "  plt.ylabel('Accuracy')\n",
    "  plt.title('Training and Validation Accuracy')\n",
    "  plt.legend(frameon = False)"
   ]
  },
  {
   "cell_type": "code",
   "execution_count": 19,
   "metadata": {},
   "outputs": [
    {
     "data": {
      "image/png": "[encoded data removed]",
      "text/plain": [
       "<Figure size 640x480 with 1 Axes>"
      ]
     },
     "metadata": {},
     "output_type": "display_data"
    }
   ],
   "source": [
    "plot_loss(train_loss, val_loss)"
   ]
  },
  {
   "cell_type": "code",
   "execution_count": 20,
   "metadata": {},
   "outputs": [
    {
     "data": {
      "image/png": "[encoded data removed]",
      "text/plain": [
       "<Figure size 640x480 with 1 Axes>"
      ]
     },
     "metadata": {},
     "output_type": "display_data"
    }
   ],
   "source": [
    "plot_acc(train_accuracy, val_accuracy)"
   ]
  },
  {
   "cell_type": "code",
   "execution_count": null,
   "metadata": {},
   "outputs": [],
   "source": []
  },
  {
   "cell_type": "code",
   "execution_count": 21,
   "metadata": {},
   "outputs": [],
   "source": [
    "model3 = torch.load('/home/karan/temp/saved_models/model3.h5')"
   ]
  },
  {
   "cell_type": "code",
   "execution_count": 23,
   "metadata": {},
   "outputs": [],
   "source": [
    "actual = []\n",
    "preds = []\n",
    "with torch.no_grad():\n",
    "\n",
    "    batch_test_loss = 0\n",
    "    num_test_batches = len(test_loader)\n",
    "    test_samples = 0\n",
    "    test_acc = 0\n",
    "    total_test_loss = 0\n",
    "\n",
    "    for step, (vids, labels) in enumerate(test_loader):\n",
    "\n",
    "      vids = vids.to(device)\n",
    "      labels = labels.to(device)\n",
    "      labels = labels.reshape((labels.shape[0]))\n",
    "      test_samples += labels.size(0)\n",
    "\n",
    "      model_output = model(vids, vids)\n",
    "\n",
    "      loss = loss_fn(model_output, labels)\n",
    "\n",
    "      cur_loss = loss.item()\n",
    "\n",
    "      batch_test_loss += cur_loss\n",
    "\n",
    "      _, predicted_labels = torch.max(model_output, 1)\n",
    "\n",
    "      labels.float()\n",
    "\n",
    "      test_acc += torch.eq(labels, predicted_labels).sum().item()\n",
    "      actual.append(labels.cpu().numpy())\n",
    "      preds.append(predicted_labels.cpu().numpy())    \n",
    "    total_test_loss = batch_test_loss/ num_test_batches\n",
    "    test_acc /= test_samples"
   ]
  },
  {
   "cell_type": "code",
   "execution_count": 24,
   "metadata": {},
   "outputs": [
    {
     "data": {
      "text/plain": [
       "0.6265060240963856"
      ]
     },
     "execution_count": 24,
     "metadata": {},
     "output_type": "execute_result"
    }
   ],
   "source": [
    "test_acc"
   ]
  },
  {
   "cell_type": "code",
   "execution_count": 25,
   "metadata": {},
   "outputs": [
    {
     "data": {
      "text/plain": [
       "1.6768352531251454"
      ]
     },
     "execution_count": 25,
     "metadata": {},
     "output_type": "execute_result"
    }
   ],
   "source": [
    "total_test_loss"
   ]
  },
  {
   "cell_type": "code",
   "execution_count": 27,
   "metadata": {},
   "outputs": [],
   "source": [
    "import numpy as np"
   ]
  },
  {
   "cell_type": "code",
   "execution_count": 29,
   "metadata": {},
   "outputs": [],
   "source": [
    "actual_final = np.hstack(actual)"
   ]
  },
  {
   "cell_type": "code",
   "execution_count": 31,
   "metadata": {},
   "outputs": [],
   "source": [
    "preds_final = np.hstack(preds)"
   ]
  },
  {
   "cell_type": "code",
   "execution_count": 32,
   "metadata": {},
   "outputs": [],
   "source": [
    "from sklearn.metrics import classification_report, confusion_matrix"
   ]
  },
  {
   "cell_type": "code",
   "execution_count": 34,
   "metadata": {},
   "outputs": [
    {
     "name": "stdout",
     "output_type": "stream",
     "text": [
      "              precision    recall  f1-score   support\n",
      "\n",
      "           0       0.70      0.70      0.70        10\n",
      "           1       0.47      0.73      0.57        11\n",
      "           2       0.75      0.82      0.78        11\n",
      "           3       0.78      0.70      0.74        10\n",
      "           4       0.33      0.20      0.25        10\n",
      "           5       0.71      0.91      0.80        11\n",
      "           6       0.62      0.50      0.56        10\n",
      "           7       0.57      0.40      0.47        10\n",
      "\n",
      "    accuracy                           0.63        83\n",
      "   macro avg       0.62      0.62      0.61        83\n",
      "weighted avg       0.62      0.63      0.61        83\n",
      "\n"
     ]
    }
   ],
   "source": [
    "print(classification_report(actual_final, preds_final))"
   ]
  },
  {
   "cell_type": "code",
   "execution_count": 57,
   "metadata": {},
   "outputs": [
    {
     "data": {
      "text/plain": [
       "{'hot': 2,\n",
       " 'doctor': 5,\n",
       " 'help': 1,\n",
       " 'call': 4,\n",
       " 'lose': 6,\n",
       " 'accident': 0,\n",
       " 'thief': 3,\n",
       " 'pain': 7}"
      ]
     },
     "execution_count": 57,
     "metadata": {},
     "output_type": "execute_result"
    }
   ],
   "source": [
    "label_map"
   ]
  },
  {
   "cell_type": "code",
   "execution_count": 59,
   "metadata": {},
   "outputs": [
    {
     "data": {
      "text/plain": [
       "array([5, 7, 6, 1, 7, 7, 4, 3, 0, 3, 3, 0, 0, 7, 5, 4, 1, 6, 4, 5, 0, 2,\n",
       "       3, 4, 6, 5, 2, 1, 0, 3, 5, 6, 6, 1, 1, 5, 1, 2, 5, 2, 6, 4, 3, 2,\n",
       "       7, 1, 7, 4, 0, 4, 5, 1, 4, 5, 2, 2, 4, 6, 6, 5, 0, 2, 7, 3, 4, 2,\n",
       "       0, 6, 3, 5, 1, 7, 1, 1, 7, 6, 0, 3, 2, 2])"
      ]
     },
     "execution_count": 59,
     "metadata": {},
     "output_type": "execute_result"
    }
   ],
   "source": [
    "actual"
   ]
  },
  {
   "cell_type": "code",
   "execution_count": 61,
   "metadata": {},
   "outputs": [
    {
     "data": {
      "text/plain": [
       "array([5, 1, 3, 7, 2, 7, 2, 1, 0, 3, 7, 6, 0, 7, 5, 4, 1, 7, 7, 6, 0, 2,\n",
       "       3, 3, 0, 5, 2, 1, 0, 7, 0, 7, 6, 3, 1, 2, 1, 2, 5, 2, 3, 2, 3, 2,\n",
       "       4, 7, 7, 7, 0, 4, 5, 7, 7, 5, 6, 2, 7, 2, 1, 5, 5, 2, 2, 3, 7, 7,\n",
       "       0, 7, 3, 5, 1, 7, 0, 1, 7, 6, 0, 2, 7, 2])"
      ]
     },
     "execution_count": 61,
     "metadata": {},
     "output_type": "execute_result"
    }
   ],
   "source": [
    "preds"
   ]
  },
  {
   "cell_type": "code",
   "execution_count": 35,
   "metadata": {},
   "outputs": [
    {
     "data": {
      "text/plain": [
       "array([[ 7,  1,  0,  0,  1,  1,  0,  0],\n",
       "       [ 1,  8,  0,  0,  1,  1,  0,  0],\n",
       "       [ 0,  1,  9,  0,  0,  0,  1,  0],\n",
       "       [ 0,  0,  0,  7,  0,  1,  1,  1],\n",
       "       [ 0,  4,  1,  1,  2,  0,  1,  1],\n",
       "       [ 0,  1,  0,  0,  0, 10,  0,  0],\n",
       "       [ 1,  1,  0,  0,  1,  1,  5,  1],\n",
       "       [ 1,  1,  2,  1,  1,  0,  0,  4]])"
      ]
     },
     "execution_count": 35,
     "metadata": {},
     "output_type": "execute_result"
    }
   ],
   "source": [
    "confusion_matrix(actual_final, preds_final)"
   ]
  },
  {
   "cell_type": "code",
   "execution_count": 65,
   "metadata": {},
   "outputs": [],
   "source": [
    "from torchviz import make_dot"
   ]
  },
  {
   "cell_type": "code",
   "execution_count": null,
   "metadata": {},
   "outputs": [],
   "source": [
    "make_dot()"
   ]
  }
 ],
 "metadata": {
  "kernelspec": {
   "display_name": "nipun",
   "language": "python",
   "name": "python3"
  },
  "language_info": {
   "codemirror_mode": {
    "name": "ipython",
    "version": 3
   },
   "file_extension": ".py",
   "mimetype": "text/x-python",
   "name": "python",
   "nbconvert_exporter": "python",
   "pygments_lexer": "ipython3",
   "version": "3.7.16"
  },
  "orig_nbformat": 4
 },
 "nbformat": 4,
 "nbformat_minor": 2
}
